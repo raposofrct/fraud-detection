{
 "cells": [
  {
   "cell_type": "markdown",
   "id": "beb0c631",
   "metadata": {},
   "source": [
    "# 0.0 Imports"
   ]
  },
  {
   "cell_type": "code",
   "execution_count": 2,
   "id": "5676d0ce",
   "metadata": {
    "ExecuteTime": {
     "end_time": "2022-06-21T23:56:48.703287Z",
     "start_time": "2022-06-21T23:56:46.016753Z"
    }
   },
   "outputs": [],
   "source": [
    "import pandas as pd\n",
    "import numpy as np\n",
    "import seaborn as sns\n",
    "import matplotlib.pyplot as plt\n",
    "import inflection\n",
    "from warnings import filterwarnings\n",
    "from sklearn.model_selection import train_test_split,StratifiedKFold\n",
    "from sklearn.preprocessing import LabelEncoder,MinMaxScaler\n",
    "from sklearn import metrics as m\n",
    "from category_encoders import OneHotEncoder,TargetEncoder\n",
    "from boruta import BorutaPy\n",
    "from sklearn.ensemble import RandomForestClassifier\n",
    "from sklearn.tree import DecisionTreeClassifier\n",
    "from sklearn.naive_bayes import MultinomialNB,GaussianNB\n",
    "from sklearn.linear_model import LogisticRegression\n",
    "from sklearn.svm import SVC,LinearSVC\n",
    "from xgboost import XGBClassifier\n",
    "from lightgbm import LGBMClassifier\n",
    "from imblearn.over_sampling import SMOTE\n",
    "import pickle as pkl\n",
    "filterwarnings('ignore')"
   ]
  },
  {
   "cell_type": "markdown",
   "id": "a088395c",
   "metadata": {},
   "source": [
    "# 1.0 Collect Data"
   ]
  },
  {
   "cell_type": "code",
   "execution_count": 3,
   "id": "5c5be581",
   "metadata": {
    "ExecuteTime": {
     "end_time": "2022-06-21T23:56:56.985793Z",
     "start_time": "2022-06-21T23:56:48.704981Z"
    }
   },
   "outputs": [
    {
     "data": {
      "text/html": [
       "<div>\n",
       "<style scoped>\n",
       "    .dataframe tbody tr th:only-of-type {\n",
       "        vertical-align: middle;\n",
       "    }\n",
       "\n",
       "    .dataframe tbody tr th {\n",
       "        vertical-align: top;\n",
       "    }\n",
       "\n",
       "    .dataframe thead th {\n",
       "        text-align: right;\n",
       "    }\n",
       "</style>\n",
       "<table border=\"1\" class=\"dataframe\">\n",
       "  <thead>\n",
       "    <tr style=\"text-align: right;\">\n",
       "      <th></th>\n",
       "      <th>step</th>\n",
       "      <th>type</th>\n",
       "      <th>amount</th>\n",
       "      <th>nameOrig</th>\n",
       "      <th>oldbalanceOrg</th>\n",
       "      <th>newbalanceOrig</th>\n",
       "      <th>nameDest</th>\n",
       "      <th>oldbalanceDest</th>\n",
       "      <th>newbalanceDest</th>\n",
       "      <th>isFraud</th>\n",
       "      <th>isFlaggedFraud</th>\n",
       "    </tr>\n",
       "  </thead>\n",
       "  <tbody>\n",
       "    <tr>\n",
       "      <th>0</th>\n",
       "      <td>1</td>\n",
       "      <td>PAYMENT</td>\n",
       "      <td>9839.64</td>\n",
       "      <td>C1231006815</td>\n",
       "      <td>170136.0</td>\n",
       "      <td>160296.36</td>\n",
       "      <td>M1979787155</td>\n",
       "      <td>0.0</td>\n",
       "      <td>0.0</td>\n",
       "      <td>0</td>\n",
       "      <td>0</td>\n",
       "    </tr>\n",
       "    <tr>\n",
       "      <th>1</th>\n",
       "      <td>1</td>\n",
       "      <td>PAYMENT</td>\n",
       "      <td>1864.28</td>\n",
       "      <td>C1666544295</td>\n",
       "      <td>21249.0</td>\n",
       "      <td>19384.72</td>\n",
       "      <td>M2044282225</td>\n",
       "      <td>0.0</td>\n",
       "      <td>0.0</td>\n",
       "      <td>0</td>\n",
       "      <td>0</td>\n",
       "    </tr>\n",
       "    <tr>\n",
       "      <th>2</th>\n",
       "      <td>1</td>\n",
       "      <td>TRANSFER</td>\n",
       "      <td>181.00</td>\n",
       "      <td>C1305486145</td>\n",
       "      <td>181.0</td>\n",
       "      <td>0.00</td>\n",
       "      <td>C553264065</td>\n",
       "      <td>0.0</td>\n",
       "      <td>0.0</td>\n",
       "      <td>1</td>\n",
       "      <td>0</td>\n",
       "    </tr>\n",
       "    <tr>\n",
       "      <th>3</th>\n",
       "      <td>1</td>\n",
       "      <td>CASH_OUT</td>\n",
       "      <td>181.00</td>\n",
       "      <td>C840083671</td>\n",
       "      <td>181.0</td>\n",
       "      <td>0.00</td>\n",
       "      <td>C38997010</td>\n",
       "      <td>21182.0</td>\n",
       "      <td>0.0</td>\n",
       "      <td>1</td>\n",
       "      <td>0</td>\n",
       "    </tr>\n",
       "    <tr>\n",
       "      <th>4</th>\n",
       "      <td>1</td>\n",
       "      <td>PAYMENT</td>\n",
       "      <td>11668.14</td>\n",
       "      <td>C2048537720</td>\n",
       "      <td>41554.0</td>\n",
       "      <td>29885.86</td>\n",
       "      <td>M1230701703</td>\n",
       "      <td>0.0</td>\n",
       "      <td>0.0</td>\n",
       "      <td>0</td>\n",
       "      <td>0</td>\n",
       "    </tr>\n",
       "  </tbody>\n",
       "</table>\n",
       "</div>"
      ],
      "text/plain": [
       "   step      type    amount     nameOrig  oldbalanceOrg  newbalanceOrig  \\\n",
       "0     1   PAYMENT   9839.64  C1231006815       170136.0       160296.36   \n",
       "1     1   PAYMENT   1864.28  C1666544295        21249.0        19384.72   \n",
       "2     1  TRANSFER    181.00  C1305486145          181.0            0.00   \n",
       "3     1  CASH_OUT    181.00   C840083671          181.0            0.00   \n",
       "4     1   PAYMENT  11668.14  C2048537720        41554.0        29885.86   \n",
       "\n",
       "      nameDest  oldbalanceDest  newbalanceDest  isFraud  isFlaggedFraud  \n",
       "0  M1979787155             0.0             0.0        0               0  \n",
       "1  M2044282225             0.0             0.0        0               0  \n",
       "2   C553264065             0.0             0.0        1               0  \n",
       "3    C38997010         21182.0             0.0        1               0  \n",
       "4  M1230701703             0.0             0.0        0               0  "
      ]
     },
     "execution_count": 3,
     "metadata": {},
     "output_type": "execute_result"
    }
   ],
   "source": [
    "dados1 = pd.read_csv('/Users/nando/Comunidade DS/fraud/data/data.csv')\n",
    "dados1.head()"
   ]
  },
  {
   "cell_type": "code",
   "execution_count": 4,
   "id": "2795e7bc",
   "metadata": {
    "ExecuteTime": {
     "end_time": "2022-06-21T23:56:56.991382Z",
     "start_time": "2022-06-21T23:56:56.987924Z"
    }
   },
   "outputs": [
    {
     "name": "stdout",
     "output_type": "stream",
     "text": [
      "Rows: 6362620 / Columns: 11\n"
     ]
    }
   ],
   "source": [
    "print(f'Rows: {dados1.shape[0]} / Columns: {dados1.shape[1]}')"
   ]
  },
  {
   "cell_type": "code",
   "execution_count": 5,
   "id": "1af9f19f",
   "metadata": {
    "ExecuteTime": {
     "end_time": "2022-06-21T23:56:58.123462Z",
     "start_time": "2022-06-21T23:56:56.994253Z"
    }
   },
   "outputs": [],
   "source": [
    "dados1 = dados1.groupby('isFraud', group_keys=False).apply(lambda x: x.sample(frac=0.1,random_state=101))# Stratified sampling"
   ]
  },
  {
   "cell_type": "code",
   "execution_count": 6,
   "id": "06ff32e1",
   "metadata": {
    "ExecuteTime": {
     "end_time": "2022-06-21T23:56:58.126907Z",
     "start_time": "2022-06-21T23:56:58.124746Z"
    }
   },
   "outputs": [],
   "source": [
    "# Granularidade -> Transação"
   ]
  },
  {
   "cell_type": "markdown",
   "id": "789e020e",
   "metadata": {},
   "source": [
    "# 2.0 Data Cleaning"
   ]
  },
  {
   "cell_type": "code",
   "execution_count": 7,
   "id": "1c1667cd",
   "metadata": {
    "ExecuteTime": {
     "end_time": "2022-06-21T23:56:58.205089Z",
     "start_time": "2022-06-21T23:56:58.128026Z"
    }
   },
   "outputs": [],
   "source": [
    "dados2 = dados1.copy()"
   ]
  },
  {
   "cell_type": "markdown",
   "id": "d348b9be",
   "metadata": {},
   "source": [
    "## 2.1 Rename Values and Columns"
   ]
  },
  {
   "cell_type": "code",
   "execution_count": 8,
   "id": "32877fd0",
   "metadata": {
    "ExecuteTime": {
     "end_time": "2022-06-21T23:56:58.218153Z",
     "start_time": "2022-06-21T23:56:58.206305Z"
    }
   },
   "outputs": [
    {
     "data": {
      "text/html": [
       "<div>\n",
       "<style scoped>\n",
       "    .dataframe tbody tr th:only-of-type {\n",
       "        vertical-align: middle;\n",
       "    }\n",
       "\n",
       "    .dataframe tbody tr th {\n",
       "        vertical-align: top;\n",
       "    }\n",
       "\n",
       "    .dataframe thead th {\n",
       "        text-align: right;\n",
       "    }\n",
       "</style>\n",
       "<table border=\"1\" class=\"dataframe\">\n",
       "  <thead>\n",
       "    <tr style=\"text-align: right;\">\n",
       "      <th></th>\n",
       "      <th>step</th>\n",
       "      <th>type</th>\n",
       "      <th>amount</th>\n",
       "      <th>nameOrig</th>\n",
       "      <th>oldbalanceOrg</th>\n",
       "      <th>newbalanceOrig</th>\n",
       "      <th>nameDest</th>\n",
       "      <th>oldbalanceDest</th>\n",
       "      <th>newbalanceDest</th>\n",
       "      <th>isFraud</th>\n",
       "      <th>isFlaggedFraud</th>\n",
       "    </tr>\n",
       "  </thead>\n",
       "  <tbody>\n",
       "    <tr>\n",
       "      <th>4017003</th>\n",
       "      <td>299</td>\n",
       "      <td>CASH_IN</td>\n",
       "      <td>254790.91</td>\n",
       "      <td>C145646199</td>\n",
       "      <td>16196.00</td>\n",
       "      <td>270986.91</td>\n",
       "      <td>C248136607</td>\n",
       "      <td>524425.01</td>\n",
       "      <td>269634.10</td>\n",
       "      <td>0</td>\n",
       "      <td>0</td>\n",
       "    </tr>\n",
       "    <tr>\n",
       "      <th>2193816</th>\n",
       "      <td>185</td>\n",
       "      <td>PAYMENT</td>\n",
       "      <td>7703.07</td>\n",
       "      <td>C680351073</td>\n",
       "      <td>430113.14</td>\n",
       "      <td>422410.07</td>\n",
       "      <td>M1064614924</td>\n",
       "      <td>0.00</td>\n",
       "      <td>0.00</td>\n",
       "      <td>0</td>\n",
       "      <td>0</td>\n",
       "    </tr>\n",
       "    <tr>\n",
       "      <th>4901502</th>\n",
       "      <td>349</td>\n",
       "      <td>TRANSFER</td>\n",
       "      <td>1266162.82</td>\n",
       "      <td>C1731035659</td>\n",
       "      <td>169889.28</td>\n",
       "      <td>0.00</td>\n",
       "      <td>C1182036804</td>\n",
       "      <td>2791129.07</td>\n",
       "      <td>4057291.88</td>\n",
       "      <td>0</td>\n",
       "      <td>0</td>\n",
       "    </tr>\n",
       "    <tr>\n",
       "      <th>264725</th>\n",
       "      <td>15</td>\n",
       "      <td>PAYMENT</td>\n",
       "      <td>2672.40</td>\n",
       "      <td>C890164085</td>\n",
       "      <td>358982.25</td>\n",
       "      <td>356309.85</td>\n",
       "      <td>M863319277</td>\n",
       "      <td>0.00</td>\n",
       "      <td>0.00</td>\n",
       "      <td>0</td>\n",
       "      <td>0</td>\n",
       "    </tr>\n",
       "    <tr>\n",
       "      <th>184708</th>\n",
       "      <td>13</td>\n",
       "      <td>CASH_IN</td>\n",
       "      <td>413698.51</td>\n",
       "      <td>C1708496264</td>\n",
       "      <td>1675441.00</td>\n",
       "      <td>2089139.51</td>\n",
       "      <td>C533475466</td>\n",
       "      <td>979355.07</td>\n",
       "      <td>976934.25</td>\n",
       "      <td>0</td>\n",
       "      <td>0</td>\n",
       "    </tr>\n",
       "    <tr>\n",
       "      <th>...</th>\n",
       "      <td>...</td>\n",
       "      <td>...</td>\n",
       "      <td>...</td>\n",
       "      <td>...</td>\n",
       "      <td>...</td>\n",
       "      <td>...</td>\n",
       "      <td>...</td>\n",
       "      <td>...</td>\n",
       "      <td>...</td>\n",
       "      <td>...</td>\n",
       "      <td>...</td>\n",
       "    </tr>\n",
       "    <tr>\n",
       "      <th>3220578</th>\n",
       "      <td>250</td>\n",
       "      <td>CASH_OUT</td>\n",
       "      <td>213463.32</td>\n",
       "      <td>C1263272342</td>\n",
       "      <td>213463.32</td>\n",
       "      <td>0.00</td>\n",
       "      <td>C744918576</td>\n",
       "      <td>0.00</td>\n",
       "      <td>115035.59</td>\n",
       "      <td>1</td>\n",
       "      <td>0</td>\n",
       "    </tr>\n",
       "    <tr>\n",
       "      <th>286185</th>\n",
       "      <td>15</td>\n",
       "      <td>TRANSFER</td>\n",
       "      <td>164500.81</td>\n",
       "      <td>C1761347420</td>\n",
       "      <td>164500.81</td>\n",
       "      <td>0.00</td>\n",
       "      <td>C383804904</td>\n",
       "      <td>0.00</td>\n",
       "      <td>0.00</td>\n",
       "      <td>1</td>\n",
       "      <td>0</td>\n",
       "    </tr>\n",
       "    <tr>\n",
       "      <th>6302451</th>\n",
       "      <td>683</td>\n",
       "      <td>CASH_OUT</td>\n",
       "      <td>73929.99</td>\n",
       "      <td>C652139882</td>\n",
       "      <td>73929.99</td>\n",
       "      <td>0.00</td>\n",
       "      <td>C641860418</td>\n",
       "      <td>1640832.48</td>\n",
       "      <td>1714762.47</td>\n",
       "      <td>1</td>\n",
       "      <td>0</td>\n",
       "    </tr>\n",
       "    <tr>\n",
       "      <th>6119236</th>\n",
       "      <td>538</td>\n",
       "      <td>CASH_OUT</td>\n",
       "      <td>1392337.38</td>\n",
       "      <td>C874241747</td>\n",
       "      <td>1392337.38</td>\n",
       "      <td>0.00</td>\n",
       "      <td>C762678995</td>\n",
       "      <td>125815.90</td>\n",
       "      <td>1518153.28</td>\n",
       "      <td>1</td>\n",
       "      <td>0</td>\n",
       "    </tr>\n",
       "    <tr>\n",
       "      <th>6008693</th>\n",
       "      <td>437</td>\n",
       "      <td>CASH_OUT</td>\n",
       "      <td>119041.12</td>\n",
       "      <td>C1186588727</td>\n",
       "      <td>119041.12</td>\n",
       "      <td>0.00</td>\n",
       "      <td>C1803677930</td>\n",
       "      <td>1755159.60</td>\n",
       "      <td>1874200.73</td>\n",
       "      <td>1</td>\n",
       "      <td>0</td>\n",
       "    </tr>\n",
       "  </tbody>\n",
       "</table>\n",
       "<p>636262 rows × 11 columns</p>\n",
       "</div>"
      ],
      "text/plain": [
       "         step      type      amount     nameOrig  oldbalanceOrg  \\\n",
       "4017003   299   CASH_IN   254790.91   C145646199       16196.00   \n",
       "2193816   185   PAYMENT     7703.07   C680351073      430113.14   \n",
       "4901502   349  TRANSFER  1266162.82  C1731035659      169889.28   \n",
       "264725     15   PAYMENT     2672.40   C890164085      358982.25   \n",
       "184708     13   CASH_IN   413698.51  C1708496264     1675441.00   \n",
       "...       ...       ...         ...          ...            ...   \n",
       "3220578   250  CASH_OUT   213463.32  C1263272342      213463.32   \n",
       "286185     15  TRANSFER   164500.81  C1761347420      164500.81   \n",
       "6302451   683  CASH_OUT    73929.99   C652139882       73929.99   \n",
       "6119236   538  CASH_OUT  1392337.38   C874241747     1392337.38   \n",
       "6008693   437  CASH_OUT   119041.12  C1186588727      119041.12   \n",
       "\n",
       "         newbalanceOrig     nameDest  oldbalanceDest  newbalanceDest  isFraud  \\\n",
       "4017003       270986.91   C248136607       524425.01       269634.10        0   \n",
       "2193816       422410.07  M1064614924            0.00            0.00        0   \n",
       "4901502            0.00  C1182036804      2791129.07      4057291.88        0   \n",
       "264725        356309.85   M863319277            0.00            0.00        0   \n",
       "184708       2089139.51   C533475466       979355.07       976934.25        0   \n",
       "...                 ...          ...             ...             ...      ...   \n",
       "3220578            0.00   C744918576            0.00       115035.59        1   \n",
       "286185             0.00   C383804904            0.00            0.00        1   \n",
       "6302451            0.00   C641860418      1640832.48      1714762.47        1   \n",
       "6119236            0.00   C762678995       125815.90      1518153.28        1   \n",
       "6008693            0.00  C1803677930      1755159.60      1874200.73        1   \n",
       "\n",
       "         isFlaggedFraud  \n",
       "4017003               0  \n",
       "2193816               0  \n",
       "4901502               0  \n",
       "264725                0  \n",
       "184708                0  \n",
       "...                 ...  \n",
       "3220578               0  \n",
       "286185                0  \n",
       "6302451               0  \n",
       "6119236               0  \n",
       "6008693               0  \n",
       "\n",
       "[636262 rows x 11 columns]"
      ]
     },
     "execution_count": 8,
     "metadata": {},
     "output_type": "execute_result"
    }
   ],
   "source": [
    "dados2"
   ]
  },
  {
   "cell_type": "code",
   "execution_count": 9,
   "id": "901e1234",
   "metadata": {
    "ExecuteTime": {
     "end_time": "2022-06-21T23:57:00.831600Z",
     "start_time": "2022-06-21T23:56:58.220247Z"
    }
   },
   "outputs": [],
   "source": [
    "# CamelCase to snake_case\n",
    "\n",
    "# Columns\n",
    "for column in dados2.columns:\n",
    "    dados2.rename(columns={column:inflection.underscore(column)},inplace=True)\n",
    "    \n",
    "# Values\n",
    "dados2['type'] = dados2['type'].apply(lambda x: inflection.underscore(x))\n",
    "\n",
    "# Corrigir o snake_case de algumas colunas e usar 'orig' e não 'org'\n",
    "dados2.rename(columns={'oldbalance_org':'old_balance_orig','newbalance_orig':'new_balance_orig','oldbalance_dest':'old_balance_dest','newbalance_dest':'new_balance_dest'},inplace=True)"
   ]
  },
  {
   "cell_type": "markdown",
   "id": "9eaf84c7",
   "metadata": {},
   "source": [
    "## 2.2 Missing Data"
   ]
  },
  {
   "cell_type": "code",
   "execution_count": 10,
   "id": "787bcf40",
   "metadata": {
    "ExecuteTime": {
     "end_time": "2022-06-21T23:57:01.097281Z",
     "start_time": "2022-06-21T23:57:00.832833Z"
    }
   },
   "outputs": [
    {
     "data": {
      "text/plain": [
       "step                0\n",
       "type                0\n",
       "amount              0\n",
       "name_orig           0\n",
       "old_balance_orig    0\n",
       "new_balance_orig    0\n",
       "name_dest           0\n",
       "old_balance_dest    0\n",
       "new_balance_dest    0\n",
       "is_fraud            0\n",
       "is_flagged_fraud    0\n",
       "dtype: int64"
      ]
     },
     "execution_count": 10,
     "metadata": {},
     "output_type": "execute_result"
    }
   ],
   "source": [
    "dados2.isna().sum()"
   ]
  },
  {
   "cell_type": "markdown",
   "id": "83dbbde5",
   "metadata": {},
   "source": [
    "## 2.3 Data Dtypes"
   ]
  },
  {
   "cell_type": "code",
   "execution_count": 11,
   "id": "e3124c49",
   "metadata": {
    "ExecuteTime": {
     "end_time": "2022-06-21T23:57:01.104601Z",
     "start_time": "2022-06-21T23:57:01.101098Z"
    }
   },
   "outputs": [
    {
     "data": {
      "text/plain": [
       "step                  int64\n",
       "type                 object\n",
       "amount              float64\n",
       "name_orig            object\n",
       "old_balance_orig    float64\n",
       "new_balance_orig    float64\n",
       "name_dest            object\n",
       "old_balance_dest    float64\n",
       "new_balance_dest    float64\n",
       "is_fraud              int64\n",
       "is_flagged_fraud      int64\n",
       "dtype: object"
      ]
     },
     "execution_count": 11,
     "metadata": {},
     "output_type": "execute_result"
    }
   ],
   "source": [
    "dados2.dtypes"
   ]
  },
  {
   "cell_type": "markdown",
   "id": "1c7226ba",
   "metadata": {},
   "source": [
    "# 3.0 Feature Engineering"
   ]
  },
  {
   "cell_type": "code",
   "execution_count": 12,
   "id": "f42e602b",
   "metadata": {
    "ExecuteTime": {
     "end_time": "2022-06-21T23:57:01.178611Z",
     "start_time": "2022-06-21T23:57:01.105804Z"
    }
   },
   "outputs": [],
   "source": [
    "dados3 = dados2.copy()"
   ]
  },
  {
   "cell_type": "code",
   "execution_count": 13,
   "id": "bbd0ca08",
   "metadata": {
    "ExecuteTime": {
     "end_time": "2022-06-21T23:57:01.191271Z",
     "start_time": "2022-06-21T23:57:01.179974Z"
    }
   },
   "outputs": [
    {
     "data": {
      "text/html": [
       "<div>\n",
       "<style scoped>\n",
       "    .dataframe tbody tr th:only-of-type {\n",
       "        vertical-align: middle;\n",
       "    }\n",
       "\n",
       "    .dataframe tbody tr th {\n",
       "        vertical-align: top;\n",
       "    }\n",
       "\n",
       "    .dataframe thead th {\n",
       "        text-align: right;\n",
       "    }\n",
       "</style>\n",
       "<table border=\"1\" class=\"dataframe\">\n",
       "  <thead>\n",
       "    <tr style=\"text-align: right;\">\n",
       "      <th></th>\n",
       "      <th>step</th>\n",
       "      <th>type</th>\n",
       "      <th>amount</th>\n",
       "      <th>name_orig</th>\n",
       "      <th>old_balance_orig</th>\n",
       "      <th>new_balance_orig</th>\n",
       "      <th>name_dest</th>\n",
       "      <th>old_balance_dest</th>\n",
       "      <th>new_balance_dest</th>\n",
       "      <th>is_fraud</th>\n",
       "      <th>is_flagged_fraud</th>\n",
       "    </tr>\n",
       "  </thead>\n",
       "  <tbody>\n",
       "    <tr>\n",
       "      <th>4017003</th>\n",
       "      <td>299</td>\n",
       "      <td>cash_in</td>\n",
       "      <td>254790.91</td>\n",
       "      <td>C145646199</td>\n",
       "      <td>16196.00</td>\n",
       "      <td>270986.91</td>\n",
       "      <td>C248136607</td>\n",
       "      <td>524425.01</td>\n",
       "      <td>269634.10</td>\n",
       "      <td>0</td>\n",
       "      <td>0</td>\n",
       "    </tr>\n",
       "    <tr>\n",
       "      <th>2193816</th>\n",
       "      <td>185</td>\n",
       "      <td>payment</td>\n",
       "      <td>7703.07</td>\n",
       "      <td>C680351073</td>\n",
       "      <td>430113.14</td>\n",
       "      <td>422410.07</td>\n",
       "      <td>M1064614924</td>\n",
       "      <td>0.00</td>\n",
       "      <td>0.00</td>\n",
       "      <td>0</td>\n",
       "      <td>0</td>\n",
       "    </tr>\n",
       "    <tr>\n",
       "      <th>4901502</th>\n",
       "      <td>349</td>\n",
       "      <td>transfer</td>\n",
       "      <td>1266162.82</td>\n",
       "      <td>C1731035659</td>\n",
       "      <td>169889.28</td>\n",
       "      <td>0.00</td>\n",
       "      <td>C1182036804</td>\n",
       "      <td>2791129.07</td>\n",
       "      <td>4057291.88</td>\n",
       "      <td>0</td>\n",
       "      <td>0</td>\n",
       "    </tr>\n",
       "    <tr>\n",
       "      <th>264725</th>\n",
       "      <td>15</td>\n",
       "      <td>payment</td>\n",
       "      <td>2672.40</td>\n",
       "      <td>C890164085</td>\n",
       "      <td>358982.25</td>\n",
       "      <td>356309.85</td>\n",
       "      <td>M863319277</td>\n",
       "      <td>0.00</td>\n",
       "      <td>0.00</td>\n",
       "      <td>0</td>\n",
       "      <td>0</td>\n",
       "    </tr>\n",
       "    <tr>\n",
       "      <th>184708</th>\n",
       "      <td>13</td>\n",
       "      <td>cash_in</td>\n",
       "      <td>413698.51</td>\n",
       "      <td>C1708496264</td>\n",
       "      <td>1675441.00</td>\n",
       "      <td>2089139.51</td>\n",
       "      <td>C533475466</td>\n",
       "      <td>979355.07</td>\n",
       "      <td>976934.25</td>\n",
       "      <td>0</td>\n",
       "      <td>0</td>\n",
       "    </tr>\n",
       "    <tr>\n",
       "      <th>...</th>\n",
       "      <td>...</td>\n",
       "      <td>...</td>\n",
       "      <td>...</td>\n",
       "      <td>...</td>\n",
       "      <td>...</td>\n",
       "      <td>...</td>\n",
       "      <td>...</td>\n",
       "      <td>...</td>\n",
       "      <td>...</td>\n",
       "      <td>...</td>\n",
       "      <td>...</td>\n",
       "    </tr>\n",
       "    <tr>\n",
       "      <th>3220578</th>\n",
       "      <td>250</td>\n",
       "      <td>cash_out</td>\n",
       "      <td>213463.32</td>\n",
       "      <td>C1263272342</td>\n",
       "      <td>213463.32</td>\n",
       "      <td>0.00</td>\n",
       "      <td>C744918576</td>\n",
       "      <td>0.00</td>\n",
       "      <td>115035.59</td>\n",
       "      <td>1</td>\n",
       "      <td>0</td>\n",
       "    </tr>\n",
       "    <tr>\n",
       "      <th>286185</th>\n",
       "      <td>15</td>\n",
       "      <td>transfer</td>\n",
       "      <td>164500.81</td>\n",
       "      <td>C1761347420</td>\n",
       "      <td>164500.81</td>\n",
       "      <td>0.00</td>\n",
       "      <td>C383804904</td>\n",
       "      <td>0.00</td>\n",
       "      <td>0.00</td>\n",
       "      <td>1</td>\n",
       "      <td>0</td>\n",
       "    </tr>\n",
       "    <tr>\n",
       "      <th>6302451</th>\n",
       "      <td>683</td>\n",
       "      <td>cash_out</td>\n",
       "      <td>73929.99</td>\n",
       "      <td>C652139882</td>\n",
       "      <td>73929.99</td>\n",
       "      <td>0.00</td>\n",
       "      <td>C641860418</td>\n",
       "      <td>1640832.48</td>\n",
       "      <td>1714762.47</td>\n",
       "      <td>1</td>\n",
       "      <td>0</td>\n",
       "    </tr>\n",
       "    <tr>\n",
       "      <th>6119236</th>\n",
       "      <td>538</td>\n",
       "      <td>cash_out</td>\n",
       "      <td>1392337.38</td>\n",
       "      <td>C874241747</td>\n",
       "      <td>1392337.38</td>\n",
       "      <td>0.00</td>\n",
       "      <td>C762678995</td>\n",
       "      <td>125815.90</td>\n",
       "      <td>1518153.28</td>\n",
       "      <td>1</td>\n",
       "      <td>0</td>\n",
       "    </tr>\n",
       "    <tr>\n",
       "      <th>6008693</th>\n",
       "      <td>437</td>\n",
       "      <td>cash_out</td>\n",
       "      <td>119041.12</td>\n",
       "      <td>C1186588727</td>\n",
       "      <td>119041.12</td>\n",
       "      <td>0.00</td>\n",
       "      <td>C1803677930</td>\n",
       "      <td>1755159.60</td>\n",
       "      <td>1874200.73</td>\n",
       "      <td>1</td>\n",
       "      <td>0</td>\n",
       "    </tr>\n",
       "  </tbody>\n",
       "</table>\n",
       "<p>636262 rows × 11 columns</p>\n",
       "</div>"
      ],
      "text/plain": [
       "         step      type      amount    name_orig  old_balance_orig  \\\n",
       "4017003   299   cash_in   254790.91   C145646199          16196.00   \n",
       "2193816   185   payment     7703.07   C680351073         430113.14   \n",
       "4901502   349  transfer  1266162.82  C1731035659         169889.28   \n",
       "264725     15   payment     2672.40   C890164085         358982.25   \n",
       "184708     13   cash_in   413698.51  C1708496264        1675441.00   \n",
       "...       ...       ...         ...          ...               ...   \n",
       "3220578   250  cash_out   213463.32  C1263272342         213463.32   \n",
       "286185     15  transfer   164500.81  C1761347420         164500.81   \n",
       "6302451   683  cash_out    73929.99   C652139882          73929.99   \n",
       "6119236   538  cash_out  1392337.38   C874241747        1392337.38   \n",
       "6008693   437  cash_out   119041.12  C1186588727         119041.12   \n",
       "\n",
       "         new_balance_orig    name_dest  old_balance_dest  new_balance_dest  \\\n",
       "4017003         270986.91   C248136607         524425.01         269634.10   \n",
       "2193816         422410.07  M1064614924              0.00              0.00   \n",
       "4901502              0.00  C1182036804        2791129.07        4057291.88   \n",
       "264725          356309.85   M863319277              0.00              0.00   \n",
       "184708         2089139.51   C533475466         979355.07         976934.25   \n",
       "...                   ...          ...               ...               ...   \n",
       "3220578              0.00   C744918576              0.00         115035.59   \n",
       "286185               0.00   C383804904              0.00              0.00   \n",
       "6302451              0.00   C641860418        1640832.48        1714762.47   \n",
       "6119236              0.00   C762678995         125815.90        1518153.28   \n",
       "6008693              0.00  C1803677930        1755159.60        1874200.73   \n",
       "\n",
       "         is_fraud  is_flagged_fraud  \n",
       "4017003         0                 0  \n",
       "2193816         0                 0  \n",
       "4901502         0                 0  \n",
       "264725          0                 0  \n",
       "184708          0                 0  \n",
       "...           ...               ...  \n",
       "3220578         1                 0  \n",
       "286185          1                 0  \n",
       "6302451         1                 0  \n",
       "6119236         1                 0  \n",
       "6008693         1                 0  \n",
       "\n",
       "[636262 rows x 11 columns]"
      ]
     },
     "execution_count": 13,
     "metadata": {},
     "output_type": "execute_result"
    }
   ],
   "source": [
    "dados3"
   ]
  },
  {
   "cell_type": "code",
   "execution_count": 14,
   "id": "01d274c0",
   "metadata": {
    "ExecuteTime": {
     "end_time": "2022-06-21T23:57:01.548525Z",
     "start_time": "2022-06-21T23:57:01.192705Z"
    }
   },
   "outputs": [],
   "source": [
    "# Type of destination client\n",
    "dados3['type_dest'] = dados3['name_dest'].astype(str).str[0].map({'C':'customers','M':'merchants'})"
   ]
  },
  {
   "cell_type": "code",
   "execution_count": 15,
   "id": "5fc47a62",
   "metadata": {
    "ExecuteTime": {
     "end_time": "2022-06-21T23:57:16.758932Z",
     "start_time": "2022-06-21T23:57:01.549677Z"
    }
   },
   "outputs": [],
   "source": [
    "# If the origin account has lost or earned money or if nothing has changed in that transaction\n",
    "dados3['orig_transaction_status'] = dados3.apply(lambda x: 'orig_lost_money' if x['new_balance_orig']<x['old_balance_orig'] else ('no_change' if x['new_balance_orig']==x['old_balance_orig'] else 'orig_earned_money'),1)\n",
    "\n",
    "# If the destination account has lost or earned money or if nothing has changed in that transaction\n",
    "dados3['dest_transaction_status'] = dados3.apply(lambda x: 'dest_lost_money' if x['new_balance_dest']<x['old_balance_dest'] else ('no_change' if x['new_balance_dest']==x['old_balance_dest'] else 'dest_earned_money'),1)"
   ]
  },
  {
   "cell_type": "code",
   "execution_count": 16,
   "id": "7bbf3edd",
   "metadata": {
    "ExecuteTime": {
     "end_time": "2022-06-21T23:57:17.129264Z",
     "start_time": "2022-06-21T23:57:16.760040Z"
    }
   },
   "outputs": [],
   "source": [
    "# Orig account has no money after the transaction\n",
    "dados3['orig_has_no_money'] = dados3['new_balance_orig'].apply(lambda x: 1 if x==0 else 0)\n",
    "\n",
    "# Dest account had no money before the transaction\n",
    "dados3['dest_had_no_money'] = dados3['old_balance_dest'].apply(lambda x: 1 if x==0 else 0)"
   ]
  },
  {
   "cell_type": "markdown",
   "id": "45d01676",
   "metadata": {},
   "source": [
    "# 4.0 Exploratory Data Analysis"
   ]
  },
  {
   "cell_type": "code",
   "execution_count": 17,
   "id": "02363de7",
   "metadata": {
    "ExecuteTime": {
     "end_time": "2022-06-21T23:57:17.242544Z",
     "start_time": "2022-06-21T23:57:17.130523Z"
    }
   },
   "outputs": [],
   "source": [
    "dados4 = dados3.copy()"
   ]
  },
  {
   "cell_type": "markdown",
   "id": "d4518a60",
   "metadata": {},
   "source": [
    "## 4.1 Descriptive Analysis"
   ]
  },
  {
   "cell_type": "markdown",
   "id": "0181ae9e",
   "metadata": {},
   "source": [
    "### 4.1.1 Numeric Variables"
   ]
  },
  {
   "cell_type": "code",
   "execution_count": 18,
   "id": "3f9a3aac",
   "metadata": {
    "ExecuteTime": {
     "end_time": "2022-06-21T23:57:18.714507Z",
     "start_time": "2022-06-21T23:57:17.243927Z"
    }
   },
   "outputs": [
    {
     "data": {
      "text/html": [
       "<div>\n",
       "<style scoped>\n",
       "    .dataframe tbody tr th:only-of-type {\n",
       "        vertical-align: middle;\n",
       "    }\n",
       "\n",
       "    .dataframe tbody tr th {\n",
       "        vertical-align: top;\n",
       "    }\n",
       "\n",
       "    .dataframe thead th {\n",
       "        text-align: right;\n",
       "    }\n",
       "</style>\n",
       "<table border=\"1\" class=\"dataframe\">\n",
       "  <thead>\n",
       "    <tr style=\"text-align: right;\">\n",
       "      <th></th>\n",
       "      <th>count</th>\n",
       "      <th>mean</th>\n",
       "      <th>std</th>\n",
       "      <th>min</th>\n",
       "      <th>25%</th>\n",
       "      <th>50%</th>\n",
       "      <th>75%</th>\n",
       "      <th>max</th>\n",
       "      <th>skew</th>\n",
       "      <th>kurtosis</th>\n",
       "      <th>range</th>\n",
       "    </tr>\n",
       "  </thead>\n",
       "  <tbody>\n",
       "    <tr>\n",
       "      <th>step</th>\n",
       "      <td>636262.0</td>\n",
       "      <td>243.14</td>\n",
       "      <td>142.30</td>\n",
       "      <td>1.00</td>\n",
       "      <td>155.00</td>\n",
       "      <td>238.00</td>\n",
       "      <td>334.00</td>\n",
       "      <td>7.420000e+02</td>\n",
       "      <td>0.38</td>\n",
       "      <td>0.33</td>\n",
       "      <td>7.410000e+02</td>\n",
       "    </tr>\n",
       "    <tr>\n",
       "      <th>amount</th>\n",
       "      <td>636262.0</td>\n",
       "      <td>180936.40</td>\n",
       "      <td>618526.78</td>\n",
       "      <td>0.07</td>\n",
       "      <td>13462.29</td>\n",
       "      <td>75453.32</td>\n",
       "      <td>209223.92</td>\n",
       "      <td>7.117248e+07</td>\n",
       "      <td>32.95</td>\n",
       "      <td>1995.53</td>\n",
       "      <td>7.117248e+07</td>\n",
       "    </tr>\n",
       "    <tr>\n",
       "      <th>old_balance_orig</th>\n",
       "      <td>636262.0</td>\n",
       "      <td>842967.24</td>\n",
       "      <td>2907950.30</td>\n",
       "      <td>0.00</td>\n",
       "      <td>0.00</td>\n",
       "      <td>14408.00</td>\n",
       "      <td>107637.86</td>\n",
       "      <td>5.731626e+07</td>\n",
       "      <td>5.21</td>\n",
       "      <td>32.37</td>\n",
       "      <td>5.731626e+07</td>\n",
       "    </tr>\n",
       "    <tr>\n",
       "      <th>new_balance_orig</th>\n",
       "      <td>636262.0</td>\n",
       "      <td>864483.37</td>\n",
       "      <td>2943927.97</td>\n",
       "      <td>0.00</td>\n",
       "      <td>0.00</td>\n",
       "      <td>0.00</td>\n",
       "      <td>145724.22</td>\n",
       "      <td>4.731626e+07</td>\n",
       "      <td>5.13</td>\n",
       "      <td>31.42</td>\n",
       "      <td>4.731626e+07</td>\n",
       "    </tr>\n",
       "    <tr>\n",
       "      <th>old_balance_dest</th>\n",
       "      <td>636262.0</td>\n",
       "      <td>1106516.72</td>\n",
       "      <td>3357099.72</td>\n",
       "      <td>0.00</td>\n",
       "      <td>0.00</td>\n",
       "      <td>135019.40</td>\n",
       "      <td>948949.93</td>\n",
       "      <td>2.754052e+08</td>\n",
       "      <td>17.89</td>\n",
       "      <td>741.04</td>\n",
       "      <td>2.754052e+08</td>\n",
       "    </tr>\n",
       "    <tr>\n",
       "      <th>new_balance_dest</th>\n",
       "      <td>636262.0</td>\n",
       "      <td>1232319.61</td>\n",
       "      <td>3647075.84</td>\n",
       "      <td>0.00</td>\n",
       "      <td>0.00</td>\n",
       "      <td>216127.38</td>\n",
       "      <td>1118695.05</td>\n",
       "      <td>2.866068e+08</td>\n",
       "      <td>17.69</td>\n",
       "      <td>689.46</td>\n",
       "      <td>2.866068e+08</td>\n",
       "    </tr>\n",
       "    <tr>\n",
       "      <th>is_fraud</th>\n",
       "      <td>636262.0</td>\n",
       "      <td>0.00</td>\n",
       "      <td>0.04</td>\n",
       "      <td>0.00</td>\n",
       "      <td>0.00</td>\n",
       "      <td>0.00</td>\n",
       "      <td>0.00</td>\n",
       "      <td>1.000000e+00</td>\n",
       "      <td>27.78</td>\n",
       "      <td>769.99</td>\n",
       "      <td>1.000000e+00</td>\n",
       "    </tr>\n",
       "    <tr>\n",
       "      <th>is_flagged_fraud</th>\n",
       "      <td>636262.0</td>\n",
       "      <td>0.00</td>\n",
       "      <td>0.00</td>\n",
       "      <td>0.00</td>\n",
       "      <td>0.00</td>\n",
       "      <td>0.00</td>\n",
       "      <td>0.00</td>\n",
       "      <td>1.000000e+00</td>\n",
       "      <td>797.66</td>\n",
       "      <td>636262.00</td>\n",
       "      <td>1.000000e+00</td>\n",
       "    </tr>\n",
       "    <tr>\n",
       "      <th>orig_has_no_money</th>\n",
       "      <td>636262.0</td>\n",
       "      <td>0.57</td>\n",
       "      <td>0.50</td>\n",
       "      <td>0.00</td>\n",
       "      <td>0.00</td>\n",
       "      <td>1.00</td>\n",
       "      <td>1.00</td>\n",
       "      <td>1.000000e+00</td>\n",
       "      <td>-0.27</td>\n",
       "      <td>-1.93</td>\n",
       "      <td>1.000000e+00</td>\n",
       "    </tr>\n",
       "    <tr>\n",
       "      <th>dest_had_no_money</th>\n",
       "      <td>636262.0</td>\n",
       "      <td>0.42</td>\n",
       "      <td>0.49</td>\n",
       "      <td>0.00</td>\n",
       "      <td>0.00</td>\n",
       "      <td>0.00</td>\n",
       "      <td>1.00</td>\n",
       "      <td>1.000000e+00</td>\n",
       "      <td>0.31</td>\n",
       "      <td>-1.91</td>\n",
       "      <td>1.000000e+00</td>\n",
       "    </tr>\n",
       "  </tbody>\n",
       "</table>\n",
       "</div>"
      ],
      "text/plain": [
       "                      count        mean         std   min       25%  \\\n",
       "step               636262.0      243.14      142.30  1.00    155.00   \n",
       "amount             636262.0   180936.40   618526.78  0.07  13462.29   \n",
       "old_balance_orig   636262.0   842967.24  2907950.30  0.00      0.00   \n",
       "new_balance_orig   636262.0   864483.37  2943927.97  0.00      0.00   \n",
       "old_balance_dest   636262.0  1106516.72  3357099.72  0.00      0.00   \n",
       "new_balance_dest   636262.0  1232319.61  3647075.84  0.00      0.00   \n",
       "is_fraud           636262.0        0.00        0.04  0.00      0.00   \n",
       "is_flagged_fraud   636262.0        0.00        0.00  0.00      0.00   \n",
       "orig_has_no_money  636262.0        0.57        0.50  0.00      0.00   \n",
       "dest_had_no_money  636262.0        0.42        0.49  0.00      0.00   \n",
       "\n",
       "                         50%         75%           max    skew   kurtosis  \\\n",
       "step                  238.00      334.00  7.420000e+02    0.38       0.33   \n",
       "amount              75453.32   209223.92  7.117248e+07   32.95    1995.53   \n",
       "old_balance_orig    14408.00   107637.86  5.731626e+07    5.21      32.37   \n",
       "new_balance_orig        0.00   145724.22  4.731626e+07    5.13      31.42   \n",
       "old_balance_dest   135019.40   948949.93  2.754052e+08   17.89     741.04   \n",
       "new_balance_dest   216127.38  1118695.05  2.866068e+08   17.69     689.46   \n",
       "is_fraud                0.00        0.00  1.000000e+00   27.78     769.99   \n",
       "is_flagged_fraud        0.00        0.00  1.000000e+00  797.66  636262.00   \n",
       "orig_has_no_money       1.00        1.00  1.000000e+00   -0.27      -1.93   \n",
       "dest_had_no_money       0.00        1.00  1.000000e+00    0.31      -1.91   \n",
       "\n",
       "                          range  \n",
       "step               7.410000e+02  \n",
       "amount             7.117248e+07  \n",
       "old_balance_orig   5.731626e+07  \n",
       "new_balance_orig   4.731626e+07  \n",
       "old_balance_dest   2.754052e+08  \n",
       "new_balance_dest   2.866068e+08  \n",
       "is_fraud           1.000000e+00  \n",
       "is_flagged_fraud   1.000000e+00  \n",
       "orig_has_no_money  1.000000e+00  \n",
       "dest_had_no_money  1.000000e+00  "
      ]
     },
     "execution_count": 18,
     "metadata": {},
     "output_type": "execute_result"
    }
   ],
   "source": [
    "descriptive = dados4.describe().T\n",
    "descriptive['skew'] = dados4.skew()\n",
    "descriptive['kurtosis'] = dados4.kurtosis()\n",
    "descriptive['range'] = dados4.select_dtypes(exclude='object').max()-dados4.select_dtypes(exclude='object').min()\n",
    "descriptive.round(2)"
   ]
  },
  {
   "cell_type": "markdown",
   "id": "66e65ebc",
   "metadata": {},
   "source": [
    "### 4.1.2 Categorical Variables"
   ]
  },
  {
   "cell_type": "code",
   "execution_count": 19,
   "id": "eda15924",
   "metadata": {
    "ExecuteTime": {
     "end_time": "2022-06-21T23:57:19.735520Z",
     "start_time": "2022-06-21T23:57:18.715673Z"
    }
   },
   "outputs": [
    {
     "data": {
      "text/html": [
       "<div>\n",
       "<style scoped>\n",
       "    .dataframe tbody tr th:only-of-type {\n",
       "        vertical-align: middle;\n",
       "    }\n",
       "\n",
       "    .dataframe tbody tr th {\n",
       "        vertical-align: top;\n",
       "    }\n",
       "\n",
       "    .dataframe thead th {\n",
       "        text-align: right;\n",
       "    }\n",
       "</style>\n",
       "<table border=\"1\" class=\"dataframe\">\n",
       "  <thead>\n",
       "    <tr style=\"text-align: right;\">\n",
       "      <th></th>\n",
       "      <th>count</th>\n",
       "      <th>unique</th>\n",
       "      <th>top</th>\n",
       "      <th>freq</th>\n",
       "    </tr>\n",
       "  </thead>\n",
       "  <tbody>\n",
       "    <tr>\n",
       "      <th>type</th>\n",
       "      <td>636262</td>\n",
       "      <td>5</td>\n",
       "      <td>cash_out</td>\n",
       "      <td>223407</td>\n",
       "    </tr>\n",
       "    <tr>\n",
       "      <th>name_orig</th>\n",
       "      <td>636262</td>\n",
       "      <td>636144</td>\n",
       "      <td>C1860114059</td>\n",
       "      <td>2</td>\n",
       "    </tr>\n",
       "    <tr>\n",
       "      <th>name_dest</th>\n",
       "      <td>636262</td>\n",
       "      <td>457008</td>\n",
       "      <td>C1899073220</td>\n",
       "      <td>16</td>\n",
       "    </tr>\n",
       "    <tr>\n",
       "      <th>type_dest</th>\n",
       "      <td>636262</td>\n",
       "      <td>2</td>\n",
       "      <td>customers</td>\n",
       "      <td>421823</td>\n",
       "    </tr>\n",
       "    <tr>\n",
       "      <th>orig_transaction_status</th>\n",
       "      <td>636262</td>\n",
       "      <td>3</td>\n",
       "      <td>orig_lost_money</td>\n",
       "      <td>287517</td>\n",
       "    </tr>\n",
       "    <tr>\n",
       "      <th>dest_transaction_status</th>\n",
       "      <td>636262</td>\n",
       "      <td>3</td>\n",
       "      <td>dest_earned_money</td>\n",
       "      <td>280869</td>\n",
       "    </tr>\n",
       "  </tbody>\n",
       "</table>\n",
       "</div>"
      ],
      "text/plain": [
       "                          count  unique                top    freq\n",
       "type                     636262       5           cash_out  223407\n",
       "name_orig                636262  636144        C1860114059       2\n",
       "name_dest                636262  457008        C1899073220      16\n",
       "type_dest                636262       2          customers  421823\n",
       "orig_transaction_status  636262       3    orig_lost_money  287517\n",
       "dest_transaction_status  636262       3  dest_earned_money  280869"
      ]
     },
     "execution_count": 19,
     "metadata": {},
     "output_type": "execute_result"
    }
   ],
   "source": [
    "dados4.select_dtypes('object').describe().T"
   ]
  },
  {
   "cell_type": "code",
   "execution_count": 20,
   "id": "758d8141",
   "metadata": {
    "ExecuteTime": {
     "end_time": "2022-06-21T23:57:19.765711Z",
     "start_time": "2022-06-21T23:57:19.736670Z"
    }
   },
   "outputs": [
    {
     "data": {
      "text/plain": [
       "array(['cash_in', 'payment', 'transfer', 'cash_out', 'debit'],\n",
       "      dtype=object)"
      ]
     },
     "execution_count": 20,
     "metadata": {},
     "output_type": "execute_result"
    }
   ],
   "source": [
    "dados4['type'].unique()"
   ]
  },
  {
   "cell_type": "code",
   "execution_count": 21,
   "id": "e2f7658c",
   "metadata": {
    "ExecuteTime": {
     "end_time": "2022-06-21T23:57:19.800065Z",
     "start_time": "2022-06-21T23:57:19.766984Z"
    }
   },
   "outputs": [
    {
     "data": {
      "text/plain": [
       "array(['orig_earned_money', 'orig_lost_money', 'no_change'], dtype=object)"
      ]
     },
     "execution_count": 21,
     "metadata": {},
     "output_type": "execute_result"
    }
   ],
   "source": [
    "dados4['orig_transaction_status'].unique()"
   ]
  },
  {
   "cell_type": "code",
   "execution_count": 22,
   "id": "b03d3049",
   "metadata": {
    "ExecuteTime": {
     "end_time": "2022-06-21T23:57:19.834680Z",
     "start_time": "2022-06-21T23:57:19.801340Z"
    }
   },
   "outputs": [
    {
     "data": {
      "text/plain": [
       "array(['dest_lost_money', 'no_change', 'dest_earned_money'], dtype=object)"
      ]
     },
     "execution_count": 22,
     "metadata": {},
     "output_type": "execute_result"
    }
   ],
   "source": [
    "dados4['dest_transaction_status'].unique()"
   ]
  },
  {
   "cell_type": "code",
   "execution_count": 23,
   "id": "d705aa12",
   "metadata": {
    "ExecuteTime": {
     "end_time": "2022-06-21T23:57:19.861856Z",
     "start_time": "2022-06-21T23:57:19.835831Z"
    }
   },
   "outputs": [
    {
     "data": {
      "text/plain": [
       "array(['customers', 'merchants'], dtype=object)"
      ]
     },
     "execution_count": 23,
     "metadata": {},
     "output_type": "execute_result"
    }
   ],
   "source": [
    "dados4['type_dest'].unique()"
   ]
  },
  {
   "cell_type": "markdown",
   "id": "e86b4ec3",
   "metadata": {},
   "source": [
    "## 4.2 Univariate Analysis"
   ]
  },
  {
   "cell_type": "markdown",
   "id": "e9d55c8d",
   "metadata": {},
   "source": [
    "### 4.2.1 Target Feature"
   ]
  },
  {
   "cell_type": "code",
   "execution_count": 24,
   "id": "7736704e",
   "metadata": {
    "ExecuteTime": {
     "end_time": "2022-06-21T23:57:20.040403Z",
     "start_time": "2022-06-21T23:57:19.863118Z"
    }
   },
   "outputs": [
    {
     "data": {
      "image/png": "[encoded data removed]",
      "text/plain": [
       "<Figure size 1152x576 with 1 Axes>"
      ]
     },
     "metadata": {
      "needs_background": "light"
     },
     "output_type": "display_data"
    }
   ],
   "source": [
    "plt.figure(figsize=(16,8))\n",
    "sns.countplot(dados4['is_fraud']);"
   ]
  },
  {
   "cell_type": "code",
   "execution_count": 25,
   "id": "7c3b2276",
   "metadata": {
    "ExecuteTime": {
     "end_time": "2022-06-21T23:57:20.050957Z",
     "start_time": "2022-06-21T23:57:20.042484Z"
    }
   },
   "outputs": [
    {
     "data": {
      "text/plain": [
       "0    99.870965\n",
       "1     0.129035\n",
       "Name: is_fraud, dtype: float64"
      ]
     },
     "execution_count": 25,
     "metadata": {},
     "output_type": "execute_result"
    }
   ],
   "source": [
    "dados4['is_fraud'].value_counts(normalize=True)*100"
   ]
  },
  {
   "cell_type": "markdown",
   "id": "528292d5",
   "metadata": {},
   "source": [
    "### 4.2.2 Histograms"
   ]
  },
  {
   "cell_type": "code",
   "execution_count": 26,
   "id": "08501f58",
   "metadata": {
    "ExecuteTime": {
     "end_time": "2022-06-21T23:57:22.042609Z",
     "start_time": "2022-06-21T23:57:20.053820Z"
    },
    "hide_input": true
   },
   "outputs": [
    {
     "data": {
      "image/png": "[encoded data removed]",
      "text/plain": [
       "<Figure size 1152x720 with 6 Axes>"
      ]
     },
     "metadata": {
      "needs_background": "light"
     },
     "output_type": "display_data"
    }
   ],
   "source": [
    "columns = ['step','amount','old_balance_orig','new_balance_orig','old_balance_dest','new_balance_dest']\n",
    "\n",
    "plt.figure(figsize=(16,10))\n",
    "plt.subplots_adjust(hspace=0.35,wspace=0.3)\n",
    "for count,column in enumerate(columns):\n",
    "    plt.subplot(3,2,count+1)\n",
    "    ax = sns.histplot(dados4[column],bins=30)\n",
    "    ax.set_xlabel('')\n",
    "    ax.set_title(column,fontsize=12,pad=7)"
   ]
  },
  {
   "cell_type": "markdown",
   "id": "26fcdb58",
   "metadata": {},
   "source": [
    "### 4.2.3 Countplots"
   ]
  },
  {
   "cell_type": "code",
   "execution_count": 27,
   "id": "03164bd7",
   "metadata": {
    "ExecuteTime": {
     "end_time": "2022-06-21T23:57:23.575774Z",
     "start_time": "2022-06-21T23:57:22.043823Z"
    },
    "hide_input": true,
    "scrolled": false
   },
   "outputs": [
    {
     "data": {
      "image/png": "[encoded data removed]",
      "text/plain": [
       "<Figure size 1152x1080 with 7 Axes>"
      ]
     },
     "metadata": {
      "needs_background": "light"
     },
     "output_type": "display_data"
    }
   ],
   "source": [
    "columns = ['type','is_flagged_fraud','type_dest','orig_transaction_status','dest_transaction_status','orig_has_no_money','dest_had_no_money']\n",
    "\n",
    "plt.figure(figsize=(16,15))\n",
    "plt.subplots_adjust(hspace=0.3,wspace=0.3)\n",
    "for count,column in enumerate(columns):\n",
    "    plt.subplot(4,2,count+1)\n",
    "    ax = sns.countplot(dados4[column])\n",
    "    ax.set_xlabel('')\n",
    "    ax.set_title(column,fontsize=12,pad=7)"
   ]
  },
  {
   "cell_type": "markdown",
   "id": "389a2508",
   "metadata": {
    "hide_input": true
   },
   "source": [
    "### 4.2.4 Investigate 'no_change' transaction"
   ]
  },
  {
   "cell_type": "code",
   "execution_count": 28,
   "id": "668c5ddc",
   "metadata": {
    "ExecuteTime": {
     "end_time": "2022-06-21T23:57:23.645871Z",
     "start_time": "2022-06-21T23:57:23.577174Z"
    }
   },
   "outputs": [
    {
     "data": {
      "text/html": [
       "<div>\n",
       "<style scoped>\n",
       "    .dataframe tbody tr th:only-of-type {\n",
       "        vertical-align: middle;\n",
       "    }\n",
       "\n",
       "    .dataframe tbody tr th {\n",
       "        vertical-align: top;\n",
       "    }\n",
       "\n",
       "    .dataframe thead th {\n",
       "        text-align: right;\n",
       "    }\n",
       "</style>\n",
       "<table border=\"1\" class=\"dataframe\">\n",
       "  <thead>\n",
       "    <tr style=\"text-align: right;\">\n",
       "      <th></th>\n",
       "      <th>step</th>\n",
       "      <th>type</th>\n",
       "      <th>amount</th>\n",
       "      <th>name_orig</th>\n",
       "      <th>old_balance_orig</th>\n",
       "      <th>new_balance_orig</th>\n",
       "      <th>name_dest</th>\n",
       "      <th>old_balance_dest</th>\n",
       "      <th>new_balance_dest</th>\n",
       "      <th>is_fraud</th>\n",
       "      <th>is_flagged_fraud</th>\n",
       "      <th>type_dest</th>\n",
       "      <th>orig_transaction_status</th>\n",
       "      <th>dest_transaction_status</th>\n",
       "      <th>orig_has_no_money</th>\n",
       "      <th>dest_had_no_money</th>\n",
       "    </tr>\n",
       "  </thead>\n",
       "  <tbody>\n",
       "    <tr>\n",
       "      <th>308780</th>\n",
       "      <td>16</td>\n",
       "      <td>cash_out</td>\n",
       "      <td>49903.80</td>\n",
       "      <td>C151068873</td>\n",
       "      <td>0.00</td>\n",
       "      <td>0.00</td>\n",
       "      <td>C1685697739</td>\n",
       "      <td>6178628.18</td>\n",
       "      <td>6204277.41</td>\n",
       "      <td>0</td>\n",
       "      <td>0</td>\n",
       "      <td>customers</td>\n",
       "      <td>no_change</td>\n",
       "      <td>dest_earned_money</td>\n",
       "      <td>1</td>\n",
       "      <td>0</td>\n",
       "    </tr>\n",
       "    <tr>\n",
       "      <th>2846164</th>\n",
       "      <td>226</td>\n",
       "      <td>cash_out</td>\n",
       "      <td>377703.46</td>\n",
       "      <td>C1214885828</td>\n",
       "      <td>0.00</td>\n",
       "      <td>0.00</td>\n",
       "      <td>C328256588</td>\n",
       "      <td>2425773.11</td>\n",
       "      <td>2803476.57</td>\n",
       "      <td>0</td>\n",
       "      <td>0</td>\n",
       "      <td>customers</td>\n",
       "      <td>no_change</td>\n",
       "      <td>dest_earned_money</td>\n",
       "      <td>1</td>\n",
       "      <td>0</td>\n",
       "    </tr>\n",
       "    <tr>\n",
       "      <th>5758300</th>\n",
       "      <td>400</td>\n",
       "      <td>cash_out</td>\n",
       "      <td>352407.54</td>\n",
       "      <td>C891615425</td>\n",
       "      <td>0.00</td>\n",
       "      <td>0.00</td>\n",
       "      <td>C63799985</td>\n",
       "      <td>1347676.69</td>\n",
       "      <td>1700084.23</td>\n",
       "      <td>0</td>\n",
       "      <td>0</td>\n",
       "      <td>customers</td>\n",
       "      <td>no_change</td>\n",
       "      <td>dest_earned_money</td>\n",
       "      <td>1</td>\n",
       "      <td>0</td>\n",
       "    </tr>\n",
       "    <tr>\n",
       "      <th>3602619</th>\n",
       "      <td>263</td>\n",
       "      <td>cash_out</td>\n",
       "      <td>63821.64</td>\n",
       "      <td>C1914935320</td>\n",
       "      <td>0.00</td>\n",
       "      <td>0.00</td>\n",
       "      <td>C1319143492</td>\n",
       "      <td>114245.48</td>\n",
       "      <td>178067.12</td>\n",
       "      <td>0</td>\n",
       "      <td>0</td>\n",
       "      <td>customers</td>\n",
       "      <td>no_change</td>\n",
       "      <td>dest_earned_money</td>\n",
       "      <td>1</td>\n",
       "      <td>0</td>\n",
       "    </tr>\n",
       "    <tr>\n",
       "      <th>3569354</th>\n",
       "      <td>260</td>\n",
       "      <td>transfer</td>\n",
       "      <td>373514.78</td>\n",
       "      <td>C990180536</td>\n",
       "      <td>0.00</td>\n",
       "      <td>0.00</td>\n",
       "      <td>C1015871257</td>\n",
       "      <td>687632.37</td>\n",
       "      <td>1061147.16</td>\n",
       "      <td>0</td>\n",
       "      <td>0</td>\n",
       "      <td>customers</td>\n",
       "      <td>no_change</td>\n",
       "      <td>dest_earned_money</td>\n",
       "      <td>1</td>\n",
       "      <td>0</td>\n",
       "    </tr>\n",
       "    <tr>\n",
       "      <th>...</th>\n",
       "      <td>...</td>\n",
       "      <td>...</td>\n",
       "      <td>...</td>\n",
       "      <td>...</td>\n",
       "      <td>...</td>\n",
       "      <td>...</td>\n",
       "      <td>...</td>\n",
       "      <td>...</td>\n",
       "      <td>...</td>\n",
       "      <td>...</td>\n",
       "      <td>...</td>\n",
       "      <td>...</td>\n",
       "      <td>...</td>\n",
       "      <td>...</td>\n",
       "      <td>...</td>\n",
       "      <td>...</td>\n",
       "    </tr>\n",
       "    <tr>\n",
       "      <th>1829342</th>\n",
       "      <td>163</td>\n",
       "      <td>cash_out</td>\n",
       "      <td>2916.60</td>\n",
       "      <td>C810121305</td>\n",
       "      <td>0.00</td>\n",
       "      <td>0.00</td>\n",
       "      <td>C532913912</td>\n",
       "      <td>855529.91</td>\n",
       "      <td>858446.51</td>\n",
       "      <td>0</td>\n",
       "      <td>0</td>\n",
       "      <td>customers</td>\n",
       "      <td>no_change</td>\n",
       "      <td>dest_earned_money</td>\n",
       "      <td>1</td>\n",
       "      <td>0</td>\n",
       "    </tr>\n",
       "    <tr>\n",
       "      <th>732891</th>\n",
       "      <td>37</td>\n",
       "      <td>cash_out</td>\n",
       "      <td>112486.46</td>\n",
       "      <td>C124687089</td>\n",
       "      <td>0.00</td>\n",
       "      <td>0.00</td>\n",
       "      <td>C179706450</td>\n",
       "      <td>257274.47</td>\n",
       "      <td>369760.93</td>\n",
       "      <td>1</td>\n",
       "      <td>0</td>\n",
       "      <td>customers</td>\n",
       "      <td>no_change</td>\n",
       "      <td>dest_earned_money</td>\n",
       "      <td>1</td>\n",
       "      <td>0</td>\n",
       "    </tr>\n",
       "    <tr>\n",
       "      <th>479636</th>\n",
       "      <td>19</td>\n",
       "      <td>cash_out</td>\n",
       "      <td>122101.57</td>\n",
       "      <td>C149845822</td>\n",
       "      <td>0.00</td>\n",
       "      <td>0.00</td>\n",
       "      <td>C1200316948</td>\n",
       "      <td>0.00</td>\n",
       "      <td>639940.20</td>\n",
       "      <td>1</td>\n",
       "      <td>0</td>\n",
       "      <td>customers</td>\n",
       "      <td>no_change</td>\n",
       "      <td>dest_earned_money</td>\n",
       "      <td>1</td>\n",
       "      <td>1</td>\n",
       "    </tr>\n",
       "    <tr>\n",
       "      <th>694551</th>\n",
       "      <td>36</td>\n",
       "      <td>cash_out</td>\n",
       "      <td>234377.29</td>\n",
       "      <td>C1737133410</td>\n",
       "      <td>0.00</td>\n",
       "      <td>0.00</td>\n",
       "      <td>C877378703</td>\n",
       "      <td>34937.86</td>\n",
       "      <td>269315.15</td>\n",
       "      <td>1</td>\n",
       "      <td>0</td>\n",
       "      <td>customers</td>\n",
       "      <td>no_change</td>\n",
       "      <td>dest_earned_money</td>\n",
       "      <td>1</td>\n",
       "      <td>0</td>\n",
       "    </tr>\n",
       "    <tr>\n",
       "      <th>5563713</th>\n",
       "      <td>387</td>\n",
       "      <td>transfer</td>\n",
       "      <td>4892193.09</td>\n",
       "      <td>C908544136</td>\n",
       "      <td>4892193.09</td>\n",
       "      <td>4892193.09</td>\n",
       "      <td>C891140444</td>\n",
       "      <td>0.00</td>\n",
       "      <td>0.00</td>\n",
       "      <td>1</td>\n",
       "      <td>1</td>\n",
       "      <td>customers</td>\n",
       "      <td>no_change</td>\n",
       "      <td>no_change</td>\n",
       "      <td>0</td>\n",
       "      <td>1</td>\n",
       "    </tr>\n",
       "  </tbody>\n",
       "</table>\n",
       "<p>208259 rows × 16 columns</p>\n",
       "</div>"
      ],
      "text/plain": [
       "         step      type      amount    name_orig  old_balance_orig  \\\n",
       "308780     16  cash_out    49903.80   C151068873              0.00   \n",
       "2846164   226  cash_out   377703.46  C1214885828              0.00   \n",
       "5758300   400  cash_out   352407.54   C891615425              0.00   \n",
       "3602619   263  cash_out    63821.64  C1914935320              0.00   \n",
       "3569354   260  transfer   373514.78   C990180536              0.00   \n",
       "...       ...       ...         ...          ...               ...   \n",
       "1829342   163  cash_out     2916.60   C810121305              0.00   \n",
       "732891     37  cash_out   112486.46   C124687089              0.00   \n",
       "479636     19  cash_out   122101.57   C149845822              0.00   \n",
       "694551     36  cash_out   234377.29  C1737133410              0.00   \n",
       "5563713   387  transfer  4892193.09   C908544136        4892193.09   \n",
       "\n",
       "         new_balance_orig    name_dest  old_balance_dest  new_balance_dest  \\\n",
       "308780               0.00  C1685697739        6178628.18        6204277.41   \n",
       "2846164              0.00   C328256588        2425773.11        2803476.57   \n",
       "5758300              0.00    C63799985        1347676.69        1700084.23   \n",
       "3602619              0.00  C1319143492         114245.48         178067.12   \n",
       "3569354              0.00  C1015871257         687632.37        1061147.16   \n",
       "...                   ...          ...               ...               ...   \n",
       "1829342              0.00   C532913912         855529.91         858446.51   \n",
       "732891               0.00   C179706450         257274.47         369760.93   \n",
       "479636               0.00  C1200316948              0.00         639940.20   \n",
       "694551               0.00   C877378703          34937.86         269315.15   \n",
       "5563713        4892193.09   C891140444              0.00              0.00   \n",
       "\n",
       "         is_fraud  is_flagged_fraud  type_dest orig_transaction_status  \\\n",
       "308780          0                 0  customers               no_change   \n",
       "2846164         0                 0  customers               no_change   \n",
       "5758300         0                 0  customers               no_change   \n",
       "3602619         0                 0  customers               no_change   \n",
       "3569354         0                 0  customers               no_change   \n",
       "...           ...               ...        ...                     ...   \n",
       "1829342         0                 0  customers               no_change   \n",
       "732891          1                 0  customers               no_change   \n",
       "479636          1                 0  customers               no_change   \n",
       "694551          1                 0  customers               no_change   \n",
       "5563713         1                 1  customers               no_change   \n",
       "\n",
       "        dest_transaction_status  orig_has_no_money  dest_had_no_money  \n",
       "308780        dest_earned_money                  1                  0  \n",
       "2846164       dest_earned_money                  1                  0  \n",
       "5758300       dest_earned_money                  1                  0  \n",
       "3602619       dest_earned_money                  1                  0  \n",
       "3569354       dest_earned_money                  1                  0  \n",
       "...                         ...                ...                ...  \n",
       "1829342       dest_earned_money                  1                  0  \n",
       "732891        dest_earned_money                  1                  0  \n",
       "479636        dest_earned_money                  1                  1  \n",
       "694551        dest_earned_money                  1                  0  \n",
       "5563713               no_change                  0                  1  \n",
       "\n",
       "[208259 rows x 16 columns]"
      ]
     },
     "execution_count": 28,
     "metadata": {},
     "output_type": "execute_result"
    }
   ],
   "source": [
    "dados4[dados4['orig_transaction_status']=='no_change']"
   ]
  },
  {
   "cell_type": "code",
   "execution_count": 29,
   "id": "c355968c",
   "metadata": {
    "ExecuteTime": {
     "end_time": "2022-06-21T23:57:23.724113Z",
     "start_time": "2022-06-21T23:57:23.652260Z"
    }
   },
   "outputs": [
    {
     "data": {
      "text/html": [
       "<div>\n",
       "<style scoped>\n",
       "    .dataframe tbody tr th:only-of-type {\n",
       "        vertical-align: middle;\n",
       "    }\n",
       "\n",
       "    .dataframe tbody tr th {\n",
       "        vertical-align: top;\n",
       "    }\n",
       "\n",
       "    .dataframe thead th {\n",
       "        text-align: right;\n",
       "    }\n",
       "</style>\n",
       "<table border=\"1\" class=\"dataframe\">\n",
       "  <thead>\n",
       "    <tr style=\"text-align: right;\">\n",
       "      <th></th>\n",
       "      <th>old_balance_orig</th>\n",
       "      <th>new_balance_orig</th>\n",
       "    </tr>\n",
       "  </thead>\n",
       "  <tbody>\n",
       "    <tr>\n",
       "      <th>0.00</th>\n",
       "      <td>208253</td>\n",
       "      <td>208253</td>\n",
       "    </tr>\n",
       "    <tr>\n",
       "      <th>350501.24</th>\n",
       "      <td>1</td>\n",
       "      <td>1</td>\n",
       "    </tr>\n",
       "    <tr>\n",
       "      <th>4800759.18</th>\n",
       "      <td>1</td>\n",
       "      <td>1</td>\n",
       "    </tr>\n",
       "    <tr>\n",
       "      <th>17655792.46</th>\n",
       "      <td>1</td>\n",
       "      <td>1</td>\n",
       "    </tr>\n",
       "    <tr>\n",
       "      <th>6509377.51</th>\n",
       "      <td>1</td>\n",
       "      <td>1</td>\n",
       "    </tr>\n",
       "    <tr>\n",
       "      <th>149735.97</th>\n",
       "      <td>1</td>\n",
       "      <td>1</td>\n",
       "    </tr>\n",
       "    <tr>\n",
       "      <th>4892193.09</th>\n",
       "      <td>1</td>\n",
       "      <td>1</td>\n",
       "    </tr>\n",
       "  </tbody>\n",
       "</table>\n",
       "</div>"
      ],
      "text/plain": [
       "             old_balance_orig  new_balance_orig\n",
       "0.00                   208253            208253\n",
       "350501.24                   1                 1\n",
       "4800759.18                  1                 1\n",
       "17655792.46                 1                 1\n",
       "6509377.51                  1                 1\n",
       "149735.97                   1                 1\n",
       "4892193.09                  1                 1"
      ]
     },
     "execution_count": 29,
     "metadata": {},
     "output_type": "execute_result"
    }
   ],
   "source": [
    "# Saldos da origem que não mudaram!\n",
    "dados4[dados4['orig_transaction_status']=='no_change'][['old_balance_orig','new_balance_orig']].apply(lambda x: x.value_counts())"
   ]
  },
  {
   "cell_type": "markdown",
   "id": "55e64176",
   "metadata": {},
   "source": [
    "Vemos como tem MUITO mais zero do que qualquer outro valor, pode ser uma espécie de cheque especial, mas não mostra a conta negativa. Realmente não consigo afirmar com o que temos aqui!"
   ]
  },
  {
   "cell_type": "code",
   "execution_count": 30,
   "id": "b2779d16",
   "metadata": {
    "ExecuteTime": {
     "end_time": "2022-06-21T23:57:23.796630Z",
     "start_time": "2022-06-21T23:57:23.725377Z"
    }
   },
   "outputs": [
    {
     "data": {
      "text/plain": [
       "dest_earned_money    0.620069\n",
       "no_change            0.369050\n",
       "dest_lost_money      0.010881\n",
       "Name: dest_transaction_status, dtype: float64"
      ]
     },
     "execution_count": 30,
     "metadata": {},
     "output_type": "execute_result"
    }
   ],
   "source": [
    "# O que aconteceu na conta de destino\n",
    "dados4[dados4['orig_transaction_status']=='no_change']['dest_transaction_status'].value_counts(normalize=True)"
   ]
  },
  {
   "cell_type": "code",
   "execution_count": 31,
   "id": "0d9aeee7",
   "metadata": {
    "ExecuteTime": {
     "end_time": "2022-06-21T23:57:23.824115Z",
     "start_time": "2022-06-21T23:57:23.797915Z"
    }
   },
   "outputs": [
    {
     "data": {
      "text/plain": [
       "dest_earned_money    0.441436\n",
       "no_change            0.363080\n",
       "dest_lost_money      0.195484\n",
       "Name: dest_transaction_status, dtype: float64"
      ]
     },
     "execution_count": 31,
     "metadata": {},
     "output_type": "execute_result"
    }
   ],
   "source": [
    "# O que geralmente acontece (compare % to see if there's a significant statistical difference!)\n",
    "dados4['dest_transaction_status'].value_counts(normalize=True)"
   ]
  },
  {
   "cell_type": "code",
   "execution_count": 32,
   "id": "93ad3b71",
   "metadata": {
    "ExecuteTime": {
     "end_time": "2022-06-21T23:57:23.906250Z",
     "start_time": "2022-06-21T23:57:23.825527Z"
    }
   },
   "outputs": [
    {
     "data": {
      "text/plain": [
       "0    0.999987\n",
       "1    0.000013\n",
       "Name: is_fraud, dtype: float64"
      ]
     },
     "execution_count": 32,
     "metadata": {},
     "output_type": "execute_result"
    }
   ],
   "source": [
    "# Ver se quando não muda nem em orig nem em dest significa o banco se protegendo e bloqueando fraudes!\n",
    "# (Pode ser um data leak)\n",
    "dados4[(dados4['orig_transaction_status']=='no_change')&((dados4['dest_transaction_status']=='no_change'))]['is_fraud'].value_counts(normalize=True)"
   ]
  },
  {
   "cell_type": "markdown",
   "id": "ad503ad6",
   "metadata": {},
   "source": [
    "Não é isso, realmente não sei o que acontece para aparentar que a transação não se efetivou!"
   ]
  },
  {
   "cell_type": "markdown",
   "id": "6be630c1",
   "metadata": {},
   "source": [
    "Os dados, dispostos como estão, não me permitem assumir nenhuma visão, teria que entender mais sobre com outros departamentos da empresa"
   ]
  },
  {
   "cell_type": "markdown",
   "id": "1c98bafc",
   "metadata": {},
   "source": [
    "## 4.3 Bivariate Analysis"
   ]
  },
  {
   "cell_type": "markdown",
   "id": "00a48935",
   "metadata": {},
   "source": [
    "### H1: Todas as transações de fraude são de lost money da origin e earned money do dest\n",
    "\n",
    "This hypothesis is **TRUE**\n",
    "\n",
    "A grande maioria das vezes a pessoa perde dinheiro e o fraudador ganha, mas existem alguns casos em que nada acontece!\n",
    "\n",
    "O que me chama atenção é que a proporção de 'no change' nas fraudes nas conta de destino é quase 50/50, enquanto na de origem é bem menos. Isso pode nos indicar que em fraudes o dinheiro até sai da conta, mas não chega a entrar na do criminoso em 50% das vezes, talvez devido a um sistema de segurança (que parece estar sendo constantemente retratado nos dados e que pode causar data leak), realmente seria importante confirmar isso."
   ]
  },
  {
   "cell_type": "code",
   "execution_count": 33,
   "id": "79f969b3",
   "metadata": {
    "ExecuteTime": {
     "end_time": "2022-06-21T23:57:24.343214Z",
     "start_time": "2022-06-21T23:57:23.907697Z"
    },
    "cell_style": "center"
   },
   "outputs": [
    {
     "data": {
      "image/png": "[encoded data removed]",
      "text/plain": [
       "<Figure size 1152x432 with 1 Axes>"
      ]
     },
     "metadata": {
      "needs_background": "light"
     },
     "output_type": "display_data"
    }
   ],
   "source": [
    "# Origin Balance\n",
    "plt.figure(figsize=(16,6))\n",
    "sns.countplot(dados4['orig_transaction_status'],hue=dados4['is_fraud']);"
   ]
  },
  {
   "cell_type": "code",
   "execution_count": 34,
   "id": "f5bdc712",
   "metadata": {
    "ExecuteTime": {
     "end_time": "2022-06-21T23:57:24.424468Z",
     "start_time": "2022-06-21T23:57:24.344839Z"
    },
    "cell_style": "center"
   },
   "outputs": [
    {
     "data": {
      "text/html": [
       "<div>\n",
       "<style scoped>\n",
       "    .dataframe tbody tr th:only-of-type {\n",
       "        vertical-align: middle;\n",
       "    }\n",
       "\n",
       "    .dataframe tbody tr th {\n",
       "        vertical-align: top;\n",
       "    }\n",
       "\n",
       "    .dataframe thead th {\n",
       "        text-align: right;\n",
       "    }\n",
       "</style>\n",
       "<table border=\"1\" class=\"dataframe\">\n",
       "  <thead>\n",
       "    <tr style=\"text-align: right;\">\n",
       "      <th>is_fraud</th>\n",
       "      <th>0</th>\n",
       "      <th>1</th>\n",
       "    </tr>\n",
       "    <tr>\n",
       "      <th>orig_transaction_status</th>\n",
       "      <th></th>\n",
       "      <th></th>\n",
       "    </tr>\n",
       "  </thead>\n",
       "  <tbody>\n",
       "    <tr>\n",
       "      <th>no_change</th>\n",
       "      <td>208255</td>\n",
       "      <td>4</td>\n",
       "    </tr>\n",
       "    <tr>\n",
       "      <th>orig_earned_money</th>\n",
       "      <td>140486</td>\n",
       "      <td>0</td>\n",
       "    </tr>\n",
       "    <tr>\n",
       "      <th>orig_lost_money</th>\n",
       "      <td>286700</td>\n",
       "      <td>817</td>\n",
       "    </tr>\n",
       "  </tbody>\n",
       "</table>\n",
       "</div>"
      ],
      "text/plain": [
       "is_fraud                      0    1\n",
       "orig_transaction_status             \n",
       "no_change                208255    4\n",
       "orig_earned_money        140486    0\n",
       "orig_lost_money          286700  817"
      ]
     },
     "execution_count": 34,
     "metadata": {},
     "output_type": "execute_result"
    }
   ],
   "source": [
    "pd.crosstab(dados4['orig_transaction_status'],dados4['is_fraud'])"
   ]
  },
  {
   "cell_type": "code",
   "execution_count": 35,
   "id": "d491d669",
   "metadata": {
    "ExecuteTime": {
     "end_time": "2022-06-21T23:57:24.930023Z",
     "start_time": "2022-06-21T23:57:24.426734Z"
    }
   },
   "outputs": [
    {
     "data": {
      "image/png": "[encoded data removed]",
      "text/plain": [
       "<Figure size 1152x432 with 1 Axes>"
      ]
     },
     "metadata": {
      "needs_background": "light"
     },
     "output_type": "display_data"
    }
   ],
   "source": [
    "# Dest Balance\n",
    "plt.figure(figsize=(16,6))\n",
    "sns.countplot(dados4['dest_transaction_status'],hue=dados4['is_fraud']);"
   ]
  },
  {
   "cell_type": "code",
   "execution_count": 36,
   "id": "68dbdb06",
   "metadata": {
    "ExecuteTime": {
     "end_time": "2022-06-21T23:57:25.020132Z",
     "start_time": "2022-06-21T23:57:24.931389Z"
    }
   },
   "outputs": [
    {
     "data": {
      "text/html": [
       "<div>\n",
       "<style scoped>\n",
       "    .dataframe tbody tr th:only-of-type {\n",
       "        vertical-align: middle;\n",
       "    }\n",
       "\n",
       "    .dataframe tbody tr th {\n",
       "        vertical-align: top;\n",
       "    }\n",
       "\n",
       "    .dataframe thead th {\n",
       "        text-align: right;\n",
       "    }\n",
       "</style>\n",
       "<table border=\"1\" class=\"dataframe\">\n",
       "  <thead>\n",
       "    <tr style=\"text-align: right;\">\n",
       "      <th>is_fraud</th>\n",
       "      <th>0</th>\n",
       "      <th>1</th>\n",
       "    </tr>\n",
       "    <tr>\n",
       "      <th>dest_transaction_status</th>\n",
       "      <th></th>\n",
       "      <th></th>\n",
       "    </tr>\n",
       "  </thead>\n",
       "  <tbody>\n",
       "    <tr>\n",
       "      <th>dest_earned_money</th>\n",
       "      <td>280466</td>\n",
       "      <td>403</td>\n",
       "    </tr>\n",
       "    <tr>\n",
       "      <th>dest_lost_money</th>\n",
       "      <td>124379</td>\n",
       "      <td>0</td>\n",
       "    </tr>\n",
       "    <tr>\n",
       "      <th>no_change</th>\n",
       "      <td>230596</td>\n",
       "      <td>418</td>\n",
       "    </tr>\n",
       "  </tbody>\n",
       "</table>\n",
       "</div>"
      ],
      "text/plain": [
       "is_fraud                      0    1\n",
       "dest_transaction_status             \n",
       "dest_earned_money        280466  403\n",
       "dest_lost_money          124379    0\n",
       "no_change                230596  418"
      ]
     },
     "execution_count": 36,
     "metadata": {},
     "output_type": "execute_result"
    }
   ],
   "source": [
    "pd.crosstab(dados4['dest_transaction_status'],dados4['is_fraud'])"
   ]
  },
  {
   "cell_type": "markdown",
   "id": "fa8d0c38",
   "metadata": {},
   "source": [
    "### H2: As fraudes geralmente acontecem através de transferências bancárias\n",
    "\n",
    "This hypothesis is **FALSE**\n",
    "\n",
    "Não só transferências, mas também por saques, sendo uma proporção bem equilibrada! Essa feature parece dividir bem nosso dataset!"
   ]
  },
  {
   "cell_type": "code",
   "execution_count": 37,
   "id": "4b648bb7",
   "metadata": {
    "ExecuteTime": {
     "end_time": "2022-06-21T23:57:25.507188Z",
     "start_time": "2022-06-21T23:57:25.022393Z"
    }
   },
   "outputs": [
    {
     "data": {
      "image/png": "[encoded data removed]",
      "text/plain": [
       "<Figure size 1152x432 with 1 Axes>"
      ]
     },
     "metadata": {
      "needs_background": "light"
     },
     "output_type": "display_data"
    }
   ],
   "source": [
    "plt.figure(figsize=(16,6))\n",
    "sns.countplot(dados4['type'],hue=dados4['is_fraud']);"
   ]
  },
  {
   "cell_type": "code",
   "execution_count": 38,
   "id": "98caa592",
   "metadata": {
    "ExecuteTime": {
     "end_time": "2022-06-21T23:57:25.586521Z",
     "start_time": "2022-06-21T23:57:25.509539Z"
    }
   },
   "outputs": [
    {
     "data": {
      "text/html": [
       "<div>\n",
       "<style scoped>\n",
       "    .dataframe tbody tr th:only-of-type {\n",
       "        vertical-align: middle;\n",
       "    }\n",
       "\n",
       "    .dataframe tbody tr th {\n",
       "        vertical-align: top;\n",
       "    }\n",
       "\n",
       "    .dataframe thead th {\n",
       "        text-align: right;\n",
       "    }\n",
       "</style>\n",
       "<table border=\"1\" class=\"dataframe\">\n",
       "  <thead>\n",
       "    <tr style=\"text-align: right;\">\n",
       "      <th>is_fraud</th>\n",
       "      <th>0</th>\n",
       "      <th>1</th>\n",
       "    </tr>\n",
       "    <tr>\n",
       "      <th>type</th>\n",
       "      <th></th>\n",
       "      <th></th>\n",
       "    </tr>\n",
       "  </thead>\n",
       "  <tbody>\n",
       "    <tr>\n",
       "      <th>cash_in</th>\n",
       "      <td>140489</td>\n",
       "      <td>0</td>\n",
       "    </tr>\n",
       "    <tr>\n",
       "      <th>cash_out</th>\n",
       "      <td>223006</td>\n",
       "      <td>401</td>\n",
       "    </tr>\n",
       "    <tr>\n",
       "      <th>debit</th>\n",
       "      <td>4098</td>\n",
       "      <td>0</td>\n",
       "    </tr>\n",
       "    <tr>\n",
       "      <th>payment</th>\n",
       "      <td>214439</td>\n",
       "      <td>0</td>\n",
       "    </tr>\n",
       "    <tr>\n",
       "      <th>transfer</th>\n",
       "      <td>53409</td>\n",
       "      <td>420</td>\n",
       "    </tr>\n",
       "  </tbody>\n",
       "</table>\n",
       "</div>"
      ],
      "text/plain": [
       "is_fraud       0    1\n",
       "type                 \n",
       "cash_in   140489    0\n",
       "cash_out  223006  401\n",
       "debit       4098    0\n",
       "payment   214439    0\n",
       "transfer   53409  420"
      ]
     },
     "execution_count": 38,
     "metadata": {},
     "output_type": "execute_result"
    }
   ],
   "source": [
    "pd.crosstab(dados4['type'],dados4['is_fraud'])"
   ]
  },
  {
   "cell_type": "markdown",
   "id": "2c2267bd",
   "metadata": {},
   "source": [
    "### H3: Os fraudadores utilizam contas de pessoas físicas para receber o dinheiro.\n",
    "\n",
    "This hypothesis is **TRUE**\n",
    "\n",
    "Isso pode ser bastante importante no modelo lá na frente, pois divide bem nosso espaço de dados!"
   ]
  },
  {
   "cell_type": "code",
   "execution_count": 39,
   "id": "d5a76c01",
   "metadata": {
    "ExecuteTime": {
     "end_time": "2022-06-21T23:57:26.033361Z",
     "start_time": "2022-06-21T23:57:25.589067Z"
    }
   },
   "outputs": [
    {
     "data": {
      "image/png": "[encoded data removed]",
      "text/plain": [
       "<Figure size 1152x432 with 1 Axes>"
      ]
     },
     "metadata": {
      "needs_background": "light"
     },
     "output_type": "display_data"
    }
   ],
   "source": [
    "plt.figure(figsize=(16,6))\n",
    "sns.countplot(dados4['type_dest'],hue=dados4['is_fraud']);"
   ]
  },
  {
   "cell_type": "code",
   "execution_count": 40,
   "id": "4f30474a",
   "metadata": {
    "ExecuteTime": {
     "end_time": "2022-06-21T23:57:26.112343Z",
     "start_time": "2022-06-21T23:57:26.035439Z"
    }
   },
   "outputs": [
    {
     "data": {
      "text/html": [
       "<div>\n",
       "<style scoped>\n",
       "    .dataframe tbody tr th:only-of-type {\n",
       "        vertical-align: middle;\n",
       "    }\n",
       "\n",
       "    .dataframe tbody tr th {\n",
       "        vertical-align: top;\n",
       "    }\n",
       "\n",
       "    .dataframe thead th {\n",
       "        text-align: right;\n",
       "    }\n",
       "</style>\n",
       "<table border=\"1\" class=\"dataframe\">\n",
       "  <thead>\n",
       "    <tr style=\"text-align: right;\">\n",
       "      <th>is_fraud</th>\n",
       "      <th>0</th>\n",
       "      <th>1</th>\n",
       "    </tr>\n",
       "    <tr>\n",
       "      <th>type_dest</th>\n",
       "      <th></th>\n",
       "      <th></th>\n",
       "    </tr>\n",
       "  </thead>\n",
       "  <tbody>\n",
       "    <tr>\n",
       "      <th>customers</th>\n",
       "      <td>421002</td>\n",
       "      <td>821</td>\n",
       "    </tr>\n",
       "    <tr>\n",
       "      <th>merchants</th>\n",
       "      <td>214439</td>\n",
       "      <td>0</td>\n",
       "    </tr>\n",
       "  </tbody>\n",
       "</table>\n",
       "</div>"
      ],
      "text/plain": [
       "is_fraud        0    1\n",
       "type_dest             \n",
       "customers  421002  821\n",
       "merchants  214439    0"
      ]
     },
     "execution_count": 40,
     "metadata": {},
     "output_type": "execute_result"
    }
   ],
   "source": [
    "pd.crosstab(dados4['type_dest'],dados4['is_fraud'])"
   ]
  },
  {
   "cell_type": "markdown",
   "id": "f1c5a2b1",
   "metadata": {},
   "source": [
    "### H4: Os fraudadores sempre pegam todo o dinheiro das vítimas\n",
    "\n",
    "This hypothesis is **FALSE**\n",
    "\n",
    "A grande maioria dos casos sim, mas existem casos que o fraudador não tirou todo o dinheiro da vítima. O que me parece estranho são que os valores são sempre iguais, a não ser em um caso, além disso, todas as vezes esse dinheiro não entrou na conta de destino!"
   ]
  },
  {
   "cell_type": "code",
   "execution_count": 41,
   "id": "32b69357",
   "metadata": {
    "ExecuteTime": {
     "end_time": "2022-06-21T23:57:26.132789Z",
     "start_time": "2022-06-21T23:57:26.114828Z"
    }
   },
   "outputs": [
    {
     "data": {
      "text/html": [
       "<div>\n",
       "<style scoped>\n",
       "    .dataframe tbody tr th:only-of-type {\n",
       "        vertical-align: middle;\n",
       "    }\n",
       "\n",
       "    .dataframe tbody tr th {\n",
       "        vertical-align: top;\n",
       "    }\n",
       "\n",
       "    .dataframe thead th {\n",
       "        text-align: right;\n",
       "    }\n",
       "</style>\n",
       "<table border=\"1\" class=\"dataframe\">\n",
       "  <thead>\n",
       "    <tr style=\"text-align: right;\">\n",
       "      <th></th>\n",
       "      <th>step</th>\n",
       "      <th>type</th>\n",
       "      <th>amount</th>\n",
       "      <th>name_orig</th>\n",
       "      <th>old_balance_orig</th>\n",
       "      <th>new_balance_orig</th>\n",
       "      <th>name_dest</th>\n",
       "      <th>old_balance_dest</th>\n",
       "      <th>new_balance_dest</th>\n",
       "      <th>is_fraud</th>\n",
       "      <th>is_flagged_fraud</th>\n",
       "      <th>type_dest</th>\n",
       "      <th>orig_transaction_status</th>\n",
       "      <th>dest_transaction_status</th>\n",
       "      <th>orig_has_no_money</th>\n",
       "      <th>dest_had_no_money</th>\n",
       "    </tr>\n",
       "  </thead>\n",
       "  <tbody>\n",
       "    <tr>\n",
       "      <th>6281788</th>\n",
       "      <td>650</td>\n",
       "      <td>cash_out</td>\n",
       "      <td>230652.43</td>\n",
       "      <td>C821616305</td>\n",
       "      <td>230652.43</td>\n",
       "      <td>0.0</td>\n",
       "      <td>C1559145787</td>\n",
       "      <td>55063.86</td>\n",
       "      <td>285716.30</td>\n",
       "      <td>1</td>\n",
       "      <td>0</td>\n",
       "      <td>customers</td>\n",
       "      <td>orig_lost_money</td>\n",
       "      <td>dest_earned_money</td>\n",
       "      <td>1</td>\n",
       "      <td>0</td>\n",
       "    </tr>\n",
       "    <tr>\n",
       "      <th>6118831</th>\n",
       "      <td>537</td>\n",
       "      <td>transfer</td>\n",
       "      <td>266546.68</td>\n",
       "      <td>C1561774472</td>\n",
       "      <td>266546.68</td>\n",
       "      <td>0.0</td>\n",
       "      <td>C351398995</td>\n",
       "      <td>0.00</td>\n",
       "      <td>0.00</td>\n",
       "      <td>1</td>\n",
       "      <td>0</td>\n",
       "      <td>customers</td>\n",
       "      <td>orig_lost_money</td>\n",
       "      <td>no_change</td>\n",
       "      <td>1</td>\n",
       "      <td>1</td>\n",
       "    </tr>\n",
       "    <tr>\n",
       "      <th>5188005</th>\n",
       "      <td>363</td>\n",
       "      <td>cash_out</td>\n",
       "      <td>2115503.99</td>\n",
       "      <td>C429080055</td>\n",
       "      <td>2115503.99</td>\n",
       "      <td>0.0</td>\n",
       "      <td>C1734499928</td>\n",
       "      <td>0.00</td>\n",
       "      <td>2115503.99</td>\n",
       "      <td>1</td>\n",
       "      <td>0</td>\n",
       "      <td>customers</td>\n",
       "      <td>orig_lost_money</td>\n",
       "      <td>dest_earned_money</td>\n",
       "      <td>1</td>\n",
       "      <td>1</td>\n",
       "    </tr>\n",
       "    <tr>\n",
       "      <th>3132355</th>\n",
       "      <td>236</td>\n",
       "      <td>cash_out</td>\n",
       "      <td>968651.23</td>\n",
       "      <td>C1843014674</td>\n",
       "      <td>968651.23</td>\n",
       "      <td>0.0</td>\n",
       "      <td>C137145524</td>\n",
       "      <td>0.00</td>\n",
       "      <td>719852.88</td>\n",
       "      <td>1</td>\n",
       "      <td>0</td>\n",
       "      <td>customers</td>\n",
       "      <td>orig_lost_money</td>\n",
       "      <td>dest_earned_money</td>\n",
       "      <td>1</td>\n",
       "      <td>1</td>\n",
       "    </tr>\n",
       "    <tr>\n",
       "      <th>6273160</th>\n",
       "      <td>632</td>\n",
       "      <td>transfer</td>\n",
       "      <td>82209.71</td>\n",
       "      <td>C2014216295</td>\n",
       "      <td>82209.71</td>\n",
       "      <td>0.0</td>\n",
       "      <td>C2066467731</td>\n",
       "      <td>0.00</td>\n",
       "      <td>0.00</td>\n",
       "      <td>1</td>\n",
       "      <td>0</td>\n",
       "      <td>customers</td>\n",
       "      <td>orig_lost_money</td>\n",
       "      <td>no_change</td>\n",
       "      <td>1</td>\n",
       "      <td>1</td>\n",
       "    </tr>\n",
       "    <tr>\n",
       "      <th>...</th>\n",
       "      <td>...</td>\n",
       "      <td>...</td>\n",
       "      <td>...</td>\n",
       "      <td>...</td>\n",
       "      <td>...</td>\n",
       "      <td>...</td>\n",
       "      <td>...</td>\n",
       "      <td>...</td>\n",
       "      <td>...</td>\n",
       "      <td>...</td>\n",
       "      <td>...</td>\n",
       "      <td>...</td>\n",
       "      <td>...</td>\n",
       "      <td>...</td>\n",
       "      <td>...</td>\n",
       "      <td>...</td>\n",
       "    </tr>\n",
       "    <tr>\n",
       "      <th>3220578</th>\n",
       "      <td>250</td>\n",
       "      <td>cash_out</td>\n",
       "      <td>213463.32</td>\n",
       "      <td>C1263272342</td>\n",
       "      <td>213463.32</td>\n",
       "      <td>0.0</td>\n",
       "      <td>C744918576</td>\n",
       "      <td>0.00</td>\n",
       "      <td>115035.59</td>\n",
       "      <td>1</td>\n",
       "      <td>0</td>\n",
       "      <td>customers</td>\n",
       "      <td>orig_lost_money</td>\n",
       "      <td>dest_earned_money</td>\n",
       "      <td>1</td>\n",
       "      <td>1</td>\n",
       "    </tr>\n",
       "    <tr>\n",
       "      <th>286185</th>\n",
       "      <td>15</td>\n",
       "      <td>transfer</td>\n",
       "      <td>164500.81</td>\n",
       "      <td>C1761347420</td>\n",
       "      <td>164500.81</td>\n",
       "      <td>0.0</td>\n",
       "      <td>C383804904</td>\n",
       "      <td>0.00</td>\n",
       "      <td>0.00</td>\n",
       "      <td>1</td>\n",
       "      <td>0</td>\n",
       "      <td>customers</td>\n",
       "      <td>orig_lost_money</td>\n",
       "      <td>no_change</td>\n",
       "      <td>1</td>\n",
       "      <td>1</td>\n",
       "    </tr>\n",
       "    <tr>\n",
       "      <th>6302451</th>\n",
       "      <td>683</td>\n",
       "      <td>cash_out</td>\n",
       "      <td>73929.99</td>\n",
       "      <td>C652139882</td>\n",
       "      <td>73929.99</td>\n",
       "      <td>0.0</td>\n",
       "      <td>C641860418</td>\n",
       "      <td>1640832.48</td>\n",
       "      <td>1714762.47</td>\n",
       "      <td>1</td>\n",
       "      <td>0</td>\n",
       "      <td>customers</td>\n",
       "      <td>orig_lost_money</td>\n",
       "      <td>dest_earned_money</td>\n",
       "      <td>1</td>\n",
       "      <td>0</td>\n",
       "    </tr>\n",
       "    <tr>\n",
       "      <th>6119236</th>\n",
       "      <td>538</td>\n",
       "      <td>cash_out</td>\n",
       "      <td>1392337.38</td>\n",
       "      <td>C874241747</td>\n",
       "      <td>1392337.38</td>\n",
       "      <td>0.0</td>\n",
       "      <td>C762678995</td>\n",
       "      <td>125815.90</td>\n",
       "      <td>1518153.28</td>\n",
       "      <td>1</td>\n",
       "      <td>0</td>\n",
       "      <td>customers</td>\n",
       "      <td>orig_lost_money</td>\n",
       "      <td>dest_earned_money</td>\n",
       "      <td>1</td>\n",
       "      <td>0</td>\n",
       "    </tr>\n",
       "    <tr>\n",
       "      <th>6008693</th>\n",
       "      <td>437</td>\n",
       "      <td>cash_out</td>\n",
       "      <td>119041.12</td>\n",
       "      <td>C1186588727</td>\n",
       "      <td>119041.12</td>\n",
       "      <td>0.0</td>\n",
       "      <td>C1803677930</td>\n",
       "      <td>1755159.60</td>\n",
       "      <td>1874200.73</td>\n",
       "      <td>1</td>\n",
       "      <td>0</td>\n",
       "      <td>customers</td>\n",
       "      <td>orig_lost_money</td>\n",
       "      <td>dest_earned_money</td>\n",
       "      <td>1</td>\n",
       "      <td>0</td>\n",
       "    </tr>\n",
       "  </tbody>\n",
       "</table>\n",
       "<p>808 rows × 16 columns</p>\n",
       "</div>"
      ],
      "text/plain": [
       "         step      type      amount    name_orig  old_balance_orig  \\\n",
       "6281788   650  cash_out   230652.43   C821616305         230652.43   \n",
       "6118831   537  transfer   266546.68  C1561774472         266546.68   \n",
       "5188005   363  cash_out  2115503.99   C429080055        2115503.99   \n",
       "3132355   236  cash_out   968651.23  C1843014674         968651.23   \n",
       "6273160   632  transfer    82209.71  C2014216295          82209.71   \n",
       "...       ...       ...         ...          ...               ...   \n",
       "3220578   250  cash_out   213463.32  C1263272342         213463.32   \n",
       "286185     15  transfer   164500.81  C1761347420         164500.81   \n",
       "6302451   683  cash_out    73929.99   C652139882          73929.99   \n",
       "6119236   538  cash_out  1392337.38   C874241747        1392337.38   \n",
       "6008693   437  cash_out   119041.12  C1186588727         119041.12   \n",
       "\n",
       "         new_balance_orig    name_dest  old_balance_dest  new_balance_dest  \\\n",
       "6281788               0.0  C1559145787          55063.86         285716.30   \n",
       "6118831               0.0   C351398995              0.00              0.00   \n",
       "5188005               0.0  C1734499928              0.00        2115503.99   \n",
       "3132355               0.0   C137145524              0.00         719852.88   \n",
       "6273160               0.0  C2066467731              0.00              0.00   \n",
       "...                   ...          ...               ...               ...   \n",
       "3220578               0.0   C744918576              0.00         115035.59   \n",
       "286185                0.0   C383804904              0.00              0.00   \n",
       "6302451               0.0   C641860418        1640832.48        1714762.47   \n",
       "6119236               0.0   C762678995         125815.90        1518153.28   \n",
       "6008693               0.0  C1803677930        1755159.60        1874200.73   \n",
       "\n",
       "         is_fraud  is_flagged_fraud  type_dest orig_transaction_status  \\\n",
       "6281788         1                 0  customers         orig_lost_money   \n",
       "6118831         1                 0  customers         orig_lost_money   \n",
       "5188005         1                 0  customers         orig_lost_money   \n",
       "3132355         1                 0  customers         orig_lost_money   \n",
       "6273160         1                 0  customers         orig_lost_money   \n",
       "...           ...               ...        ...                     ...   \n",
       "3220578         1                 0  customers         orig_lost_money   \n",
       "286185          1                 0  customers         orig_lost_money   \n",
       "6302451         1                 0  customers         orig_lost_money   \n",
       "6119236         1                 0  customers         orig_lost_money   \n",
       "6008693         1                 0  customers         orig_lost_money   \n",
       "\n",
       "        dest_transaction_status  orig_has_no_money  dest_had_no_money  \n",
       "6281788       dest_earned_money                  1                  0  \n",
       "6118831               no_change                  1                  1  \n",
       "5188005       dest_earned_money                  1                  1  \n",
       "3132355       dest_earned_money                  1                  1  \n",
       "6273160               no_change                  1                  1  \n",
       "...                         ...                ...                ...  \n",
       "3220578       dest_earned_money                  1                  1  \n",
       "286185                no_change                  1                  1  \n",
       "6302451       dest_earned_money                  1                  0  \n",
       "6119236       dest_earned_money                  1                  0  \n",
       "6008693       dest_earned_money                  1                  0  \n",
       "\n",
       "[808 rows x 16 columns]"
      ]
     },
     "execution_count": 41,
     "metadata": {},
     "output_type": "execute_result"
    }
   ],
   "source": [
    "# Tirou todo o dinheiro da vítima\n",
    "dados4[(dados4['is_fraud']==1)&(dados4['new_balance_orig']==0)]"
   ]
  },
  {
   "cell_type": "code",
   "execution_count": 42,
   "id": "1a70b8fd",
   "metadata": {
    "ExecuteTime": {
     "end_time": "2022-06-21T23:57:26.150169Z",
     "start_time": "2022-06-21T23:57:26.135270Z"
    }
   },
   "outputs": [
    {
     "data": {
      "text/html": [
       "<div>\n",
       "<style scoped>\n",
       "    .dataframe tbody tr th:only-of-type {\n",
       "        vertical-align: middle;\n",
       "    }\n",
       "\n",
       "    .dataframe tbody tr th {\n",
       "        vertical-align: top;\n",
       "    }\n",
       "\n",
       "    .dataframe thead th {\n",
       "        text-align: right;\n",
       "    }\n",
       "</style>\n",
       "<table border=\"1\" class=\"dataframe\">\n",
       "  <thead>\n",
       "    <tr style=\"text-align: right;\">\n",
       "      <th></th>\n",
       "      <th>step</th>\n",
       "      <th>type</th>\n",
       "      <th>amount</th>\n",
       "      <th>name_orig</th>\n",
       "      <th>old_balance_orig</th>\n",
       "      <th>new_balance_orig</th>\n",
       "      <th>name_dest</th>\n",
       "      <th>old_balance_dest</th>\n",
       "      <th>new_balance_dest</th>\n",
       "      <th>is_fraud</th>\n",
       "      <th>is_flagged_fraud</th>\n",
       "      <th>type_dest</th>\n",
       "      <th>orig_transaction_status</th>\n",
       "      <th>dest_transaction_status</th>\n",
       "      <th>orig_has_no_money</th>\n",
       "      <th>dest_had_no_money</th>\n",
       "    </tr>\n",
       "  </thead>\n",
       "  <tbody>\n",
       "    <tr>\n",
       "      <th>6266407</th>\n",
       "      <td>617</td>\n",
       "      <td>transfer</td>\n",
       "      <td>10000000.00</td>\n",
       "      <td>C1255348086</td>\n",
       "      <td>32542664.27</td>\n",
       "      <td>22542664.27</td>\n",
       "      <td>C103172881</td>\n",
       "      <td>0.0</td>\n",
       "      <td>0.0</td>\n",
       "      <td>1</td>\n",
       "      <td>0</td>\n",
       "      <td>customers</td>\n",
       "      <td>orig_lost_money</td>\n",
       "      <td>no_change</td>\n",
       "      <td>0</td>\n",
       "      <td>1</td>\n",
       "    </tr>\n",
       "    <tr>\n",
       "      <th>3247293</th>\n",
       "      <td>250</td>\n",
       "      <td>transfer</td>\n",
       "      <td>10000000.00</td>\n",
       "      <td>C2099141021</td>\n",
       "      <td>21343002.08</td>\n",
       "      <td>11343002.08</td>\n",
       "      <td>C1733297456</td>\n",
       "      <td>0.0</td>\n",
       "      <td>0.0</td>\n",
       "      <td>1</td>\n",
       "      <td>0</td>\n",
       "      <td>customers</td>\n",
       "      <td>orig_lost_money</td>\n",
       "      <td>no_change</td>\n",
       "      <td>0</td>\n",
       "      <td>1</td>\n",
       "    </tr>\n",
       "    <tr>\n",
       "      <th>1707589</th>\n",
       "      <td>160</td>\n",
       "      <td>transfer</td>\n",
       "      <td>10000000.00</td>\n",
       "      <td>C313051938</td>\n",
       "      <td>37670038.08</td>\n",
       "      <td>27670038.08</td>\n",
       "      <td>C2055653883</td>\n",
       "      <td>0.0</td>\n",
       "      <td>0.0</td>\n",
       "      <td>1</td>\n",
       "      <td>0</td>\n",
       "      <td>customers</td>\n",
       "      <td>orig_lost_money</td>\n",
       "      <td>no_change</td>\n",
       "      <td>0</td>\n",
       "      <td>1</td>\n",
       "    </tr>\n",
       "    <tr>\n",
       "      <th>1237395</th>\n",
       "      <td>134</td>\n",
       "      <td>transfer</td>\n",
       "      <td>10000000.00</td>\n",
       "      <td>C426632957</td>\n",
       "      <td>13892156.30</td>\n",
       "      <td>3892156.30</td>\n",
       "      <td>C48103061</td>\n",
       "      <td>0.0</td>\n",
       "      <td>0.0</td>\n",
       "      <td>1</td>\n",
       "      <td>0</td>\n",
       "      <td>customers</td>\n",
       "      <td>orig_lost_money</td>\n",
       "      <td>no_change</td>\n",
       "      <td>0</td>\n",
       "      <td>1</td>\n",
       "    </tr>\n",
       "    <tr>\n",
       "      <th>6266409</th>\n",
       "      <td>617</td>\n",
       "      <td>transfer</td>\n",
       "      <td>10000000.00</td>\n",
       "      <td>C1930318116</td>\n",
       "      <td>22542664.27</td>\n",
       "      <td>12542664.27</td>\n",
       "      <td>C1923492040</td>\n",
       "      <td>0.0</td>\n",
       "      <td>0.0</td>\n",
       "      <td>1</td>\n",
       "      <td>0</td>\n",
       "      <td>customers</td>\n",
       "      <td>orig_lost_money</td>\n",
       "      <td>no_change</td>\n",
       "      <td>0</td>\n",
       "      <td>1</td>\n",
       "    </tr>\n",
       "    <tr>\n",
       "      <th>6100676</th>\n",
       "      <td>523</td>\n",
       "      <td>transfer</td>\n",
       "      <td>10000000.00</td>\n",
       "      <td>C1800046297</td>\n",
       "      <td>15999376.79</td>\n",
       "      <td>5999376.79</td>\n",
       "      <td>C125702772</td>\n",
       "      <td>0.0</td>\n",
       "      <td>0.0</td>\n",
       "      <td>1</td>\n",
       "      <td>0</td>\n",
       "      <td>customers</td>\n",
       "      <td>orig_lost_money</td>\n",
       "      <td>no_change</td>\n",
       "      <td>0</td>\n",
       "      <td>1</td>\n",
       "    </tr>\n",
       "    <tr>\n",
       "      <th>6362452</th>\n",
       "      <td>730</td>\n",
       "      <td>transfer</td>\n",
       "      <td>10000000.00</td>\n",
       "      <td>C726730575</td>\n",
       "      <td>57316255.05</td>\n",
       "      <td>47316255.05</td>\n",
       "      <td>C1364745638</td>\n",
       "      <td>0.0</td>\n",
       "      <td>0.0</td>\n",
       "      <td>1</td>\n",
       "      <td>0</td>\n",
       "      <td>customers</td>\n",
       "      <td>orig_lost_money</td>\n",
       "      <td>no_change</td>\n",
       "      <td>0</td>\n",
       "      <td>1</td>\n",
       "    </tr>\n",
       "    <tr>\n",
       "      <th>6295600</th>\n",
       "      <td>670</td>\n",
       "      <td>transfer</td>\n",
       "      <td>10000000.00</td>\n",
       "      <td>C2085303535</td>\n",
       "      <td>12113271.99</td>\n",
       "      <td>2113271.99</td>\n",
       "      <td>C1010370571</td>\n",
       "      <td>0.0</td>\n",
       "      <td>0.0</td>\n",
       "      <td>1</td>\n",
       "      <td>0</td>\n",
       "      <td>customers</td>\n",
       "      <td>orig_lost_money</td>\n",
       "      <td>no_change</td>\n",
       "      <td>0</td>\n",
       "      <td>1</td>\n",
       "    </tr>\n",
       "    <tr>\n",
       "      <th>6362528</th>\n",
       "      <td>736</td>\n",
       "      <td>transfer</td>\n",
       "      <td>10000000.00</td>\n",
       "      <td>C412961249</td>\n",
       "      <td>11314660.84</td>\n",
       "      <td>1314660.84</td>\n",
       "      <td>C253674970</td>\n",
       "      <td>0.0</td>\n",
       "      <td>0.0</td>\n",
       "      <td>1</td>\n",
       "      <td>0</td>\n",
       "      <td>customers</td>\n",
       "      <td>orig_lost_money</td>\n",
       "      <td>no_change</td>\n",
       "      <td>0</td>\n",
       "      <td>1</td>\n",
       "    </tr>\n",
       "    <tr>\n",
       "      <th>6296010</th>\n",
       "      <td>671</td>\n",
       "      <td>transfer</td>\n",
       "      <td>10000000.00</td>\n",
       "      <td>C475879190</td>\n",
       "      <td>23441041.46</td>\n",
       "      <td>13441041.46</td>\n",
       "      <td>C1395082788</td>\n",
       "      <td>0.0</td>\n",
       "      <td>0.0</td>\n",
       "      <td>1</td>\n",
       "      <td>0</td>\n",
       "      <td>customers</td>\n",
       "      <td>orig_lost_money</td>\n",
       "      <td>no_change</td>\n",
       "      <td>0</td>\n",
       "      <td>1</td>\n",
       "    </tr>\n",
       "    <tr>\n",
       "      <th>6362456</th>\n",
       "      <td>730</td>\n",
       "      <td>transfer</td>\n",
       "      <td>10000000.00</td>\n",
       "      <td>C1277761503</td>\n",
       "      <td>37316255.05</td>\n",
       "      <td>27316255.05</td>\n",
       "      <td>C500987951</td>\n",
       "      <td>0.0</td>\n",
       "      <td>0.0</td>\n",
       "      <td>1</td>\n",
       "      <td>0</td>\n",
       "      <td>customers</td>\n",
       "      <td>orig_lost_money</td>\n",
       "      <td>no_change</td>\n",
       "      <td>0</td>\n",
       "      <td>1</td>\n",
       "    </tr>\n",
       "    <tr>\n",
       "      <th>6061825</th>\n",
       "      <td>501</td>\n",
       "      <td>transfer</td>\n",
       "      <td>10000000.00</td>\n",
       "      <td>C50880393</td>\n",
       "      <td>18020192.15</td>\n",
       "      <td>8020192.15</td>\n",
       "      <td>C590550775</td>\n",
       "      <td>0.0</td>\n",
       "      <td>0.0</td>\n",
       "      <td>1</td>\n",
       "      <td>0</td>\n",
       "      <td>customers</td>\n",
       "      <td>orig_lost_money</td>\n",
       "      <td>no_change</td>\n",
       "      <td>0</td>\n",
       "      <td>1</td>\n",
       "    </tr>\n",
       "    <tr>\n",
       "      <th>5563713</th>\n",
       "      <td>387</td>\n",
       "      <td>transfer</td>\n",
       "      <td>4892193.09</td>\n",
       "      <td>C908544136</td>\n",
       "      <td>4892193.09</td>\n",
       "      <td>4892193.09</td>\n",
       "      <td>C891140444</td>\n",
       "      <td>0.0</td>\n",
       "      <td>0.0</td>\n",
       "      <td>1</td>\n",
       "      <td>1</td>\n",
       "      <td>customers</td>\n",
       "      <td>no_change</td>\n",
       "      <td>no_change</td>\n",
       "      <td>0</td>\n",
       "      <td>1</td>\n",
       "    </tr>\n",
       "  </tbody>\n",
       "</table>\n",
       "</div>"
      ],
      "text/plain": [
       "         step      type       amount    name_orig  old_balance_orig  \\\n",
       "6266407   617  transfer  10000000.00  C1255348086       32542664.27   \n",
       "3247293   250  transfer  10000000.00  C2099141021       21343002.08   \n",
       "1707589   160  transfer  10000000.00   C313051938       37670038.08   \n",
       "1237395   134  transfer  10000000.00   C426632957       13892156.30   \n",
       "6266409   617  transfer  10000000.00  C1930318116       22542664.27   \n",
       "6100676   523  transfer  10000000.00  C1800046297       15999376.79   \n",
       "6362452   730  transfer  10000000.00   C726730575       57316255.05   \n",
       "6295600   670  transfer  10000000.00  C2085303535       12113271.99   \n",
       "6362528   736  transfer  10000000.00   C412961249       11314660.84   \n",
       "6296010   671  transfer  10000000.00   C475879190       23441041.46   \n",
       "6362456   730  transfer  10000000.00  C1277761503       37316255.05   \n",
       "6061825   501  transfer  10000000.00    C50880393       18020192.15   \n",
       "5563713   387  transfer   4892193.09   C908544136        4892193.09   \n",
       "\n",
       "         new_balance_orig    name_dest  old_balance_dest  new_balance_dest  \\\n",
       "6266407       22542664.27   C103172881               0.0               0.0   \n",
       "3247293       11343002.08  C1733297456               0.0               0.0   \n",
       "1707589       27670038.08  C2055653883               0.0               0.0   \n",
       "1237395        3892156.30    C48103061               0.0               0.0   \n",
       "6266409       12542664.27  C1923492040               0.0               0.0   \n",
       "6100676        5999376.79   C125702772               0.0               0.0   \n",
       "6362452       47316255.05  C1364745638               0.0               0.0   \n",
       "6295600        2113271.99  C1010370571               0.0               0.0   \n",
       "6362528        1314660.84   C253674970               0.0               0.0   \n",
       "6296010       13441041.46  C1395082788               0.0               0.0   \n",
       "6362456       27316255.05   C500987951               0.0               0.0   \n",
       "6061825        8020192.15   C590550775               0.0               0.0   \n",
       "5563713        4892193.09   C891140444               0.0               0.0   \n",
       "\n",
       "         is_fraud  is_flagged_fraud  type_dest orig_transaction_status  \\\n",
       "6266407         1                 0  customers         orig_lost_money   \n",
       "3247293         1                 0  customers         orig_lost_money   \n",
       "1707589         1                 0  customers         orig_lost_money   \n",
       "1237395         1                 0  customers         orig_lost_money   \n",
       "6266409         1                 0  customers         orig_lost_money   \n",
       "6100676         1                 0  customers         orig_lost_money   \n",
       "6362452         1                 0  customers         orig_lost_money   \n",
       "6295600         1                 0  customers         orig_lost_money   \n",
       "6362528         1                 0  customers         orig_lost_money   \n",
       "6296010         1                 0  customers         orig_lost_money   \n",
       "6362456         1                 0  customers         orig_lost_money   \n",
       "6061825         1                 0  customers         orig_lost_money   \n",
       "5563713         1                 1  customers               no_change   \n",
       "\n",
       "        dest_transaction_status  orig_has_no_money  dest_had_no_money  \n",
       "6266407               no_change                  0                  1  \n",
       "3247293               no_change                  0                  1  \n",
       "1707589               no_change                  0                  1  \n",
       "1237395               no_change                  0                  1  \n",
       "6266409               no_change                  0                  1  \n",
       "6100676               no_change                  0                  1  \n",
       "6362452               no_change                  0                  1  \n",
       "6295600               no_change                  0                  1  \n",
       "6362528               no_change                  0                  1  \n",
       "6296010               no_change                  0                  1  \n",
       "6362456               no_change                  0                  1  \n",
       "6061825               no_change                  0                  1  \n",
       "5563713               no_change                  0                  1  "
      ]
     },
     "execution_count": 42,
     "metadata": {},
     "output_type": "execute_result"
    }
   ],
   "source": [
    "# Não tirou todo o dinheiro da vítima\n",
    "dados4[(dados4['is_fraud']==1)&(dados4['new_balance_orig']!=0)]"
   ]
  },
  {
   "cell_type": "markdown",
   "id": "bee90777",
   "metadata": {},
   "source": [
    "### H5: Geralmente as contas dos fraudadores está vazia antes de receber a o dinheiro da fraude\n",
    "\n",
    "This hypothesis is **FALSE**\n",
    "\n",
    "Na maioria dos casos sim (~66%), mas não em todos. Há algumas vezes que os valores que há nas contas já são enormes!"
   ]
  },
  {
   "cell_type": "code",
   "execution_count": 43,
   "id": "a26e0656",
   "metadata": {
    "ExecuteTime": {
     "end_time": "2022-06-21T23:57:26.298775Z",
     "start_time": "2022-06-21T23:57:26.152073Z"
    }
   },
   "outputs": [
    {
     "data": {
      "image/png": "[encoded data removed]",
      "text/plain": [
       "<Figure size 1152x432 with 1 Axes>"
      ]
     },
     "metadata": {
      "needs_background": "light"
     },
     "output_type": "display_data"
    }
   ],
   "source": [
    "plt.figure(figsize=(16,6))\n",
    "sns.histplot(dados4[dados4['is_fraud']==1]['old_balance_dest'],bins=60);"
   ]
  },
  {
   "cell_type": "code",
   "execution_count": 44,
   "id": "6480c0cd",
   "metadata": {
    "ExecuteTime": {
     "end_time": "2022-06-21T23:57:26.464403Z",
     "start_time": "2022-06-21T23:57:26.301262Z"
    }
   },
   "outputs": [
    {
     "data": {
      "image/png": "[encoded data removed]",
      "text/plain": [
       "<Figure size 1152x576 with 1 Axes>"
      ]
     },
     "metadata": {
      "needs_background": "light"
     },
     "output_type": "display_data"
    }
   ],
   "source": [
    "plt.figure(figsize=(16,8))\n",
    "sns.countplot(dados4['dest_had_no_money']);"
   ]
  },
  {
   "cell_type": "code",
   "execution_count": 45,
   "id": "8dd84579",
   "metadata": {
    "ExecuteTime": {
     "end_time": "2022-06-21T23:57:26.493575Z",
     "start_time": "2022-06-21T23:57:26.467496Z"
    }
   },
   "outputs": [
    {
     "data": {
      "text/html": [
       "<div>\n",
       "<style scoped>\n",
       "    .dataframe tbody tr th:only-of-type {\n",
       "        vertical-align: middle;\n",
       "    }\n",
       "\n",
       "    .dataframe tbody tr th {\n",
       "        vertical-align: top;\n",
       "    }\n",
       "\n",
       "    .dataframe thead th {\n",
       "        text-align: right;\n",
       "    }\n",
       "</style>\n",
       "<table border=\"1\" class=\"dataframe\">\n",
       "  <thead>\n",
       "    <tr style=\"text-align: right;\">\n",
       "      <th></th>\n",
       "      <th>step</th>\n",
       "      <th>type</th>\n",
       "      <th>amount</th>\n",
       "      <th>name_orig</th>\n",
       "      <th>old_balance_orig</th>\n",
       "      <th>new_balance_orig</th>\n",
       "      <th>name_dest</th>\n",
       "      <th>old_balance_dest</th>\n",
       "      <th>new_balance_dest</th>\n",
       "      <th>is_fraud</th>\n",
       "      <th>is_flagged_fraud</th>\n",
       "      <th>type_dest</th>\n",
       "      <th>orig_transaction_status</th>\n",
       "      <th>dest_transaction_status</th>\n",
       "      <th>orig_has_no_money</th>\n",
       "      <th>dest_had_no_money</th>\n",
       "    </tr>\n",
       "  </thead>\n",
       "  <tbody>\n",
       "    <tr>\n",
       "      <th>6118831</th>\n",
       "      <td>537</td>\n",
       "      <td>transfer</td>\n",
       "      <td>266546.68</td>\n",
       "      <td>C1561774472</td>\n",
       "      <td>266546.68</td>\n",
       "      <td>0.0</td>\n",
       "      <td>C351398995</td>\n",
       "      <td>0.0</td>\n",
       "      <td>0.00</td>\n",
       "      <td>1</td>\n",
       "      <td>0</td>\n",
       "      <td>customers</td>\n",
       "      <td>orig_lost_money</td>\n",
       "      <td>no_change</td>\n",
       "      <td>1</td>\n",
       "      <td>1</td>\n",
       "    </tr>\n",
       "    <tr>\n",
       "      <th>5188005</th>\n",
       "      <td>363</td>\n",
       "      <td>cash_out</td>\n",
       "      <td>2115503.99</td>\n",
       "      <td>C429080055</td>\n",
       "      <td>2115503.99</td>\n",
       "      <td>0.0</td>\n",
       "      <td>C1734499928</td>\n",
       "      <td>0.0</td>\n",
       "      <td>2115503.99</td>\n",
       "      <td>1</td>\n",
       "      <td>0</td>\n",
       "      <td>customers</td>\n",
       "      <td>orig_lost_money</td>\n",
       "      <td>dest_earned_money</td>\n",
       "      <td>1</td>\n",
       "      <td>1</td>\n",
       "    </tr>\n",
       "    <tr>\n",
       "      <th>3132355</th>\n",
       "      <td>236</td>\n",
       "      <td>cash_out</td>\n",
       "      <td>968651.23</td>\n",
       "      <td>C1843014674</td>\n",
       "      <td>968651.23</td>\n",
       "      <td>0.0</td>\n",
       "      <td>C137145524</td>\n",
       "      <td>0.0</td>\n",
       "      <td>719852.88</td>\n",
       "      <td>1</td>\n",
       "      <td>0</td>\n",
       "      <td>customers</td>\n",
       "      <td>orig_lost_money</td>\n",
       "      <td>dest_earned_money</td>\n",
       "      <td>1</td>\n",
       "      <td>1</td>\n",
       "    </tr>\n",
       "    <tr>\n",
       "      <th>6273160</th>\n",
       "      <td>632</td>\n",
       "      <td>transfer</td>\n",
       "      <td>82209.71</td>\n",
       "      <td>C2014216295</td>\n",
       "      <td>82209.71</td>\n",
       "      <td>0.0</td>\n",
       "      <td>C2066467731</td>\n",
       "      <td>0.0</td>\n",
       "      <td>0.00</td>\n",
       "      <td>1</td>\n",
       "      <td>0</td>\n",
       "      <td>customers</td>\n",
       "      <td>orig_lost_money</td>\n",
       "      <td>no_change</td>\n",
       "      <td>1</td>\n",
       "      <td>1</td>\n",
       "    </tr>\n",
       "    <tr>\n",
       "      <th>4991601</th>\n",
       "      <td>352</td>\n",
       "      <td>transfer</td>\n",
       "      <td>166456.54</td>\n",
       "      <td>C2019110541</td>\n",
       "      <td>166456.54</td>\n",
       "      <td>0.0</td>\n",
       "      <td>C2098382104</td>\n",
       "      <td>0.0</td>\n",
       "      <td>0.00</td>\n",
       "      <td>1</td>\n",
       "      <td>0</td>\n",
       "      <td>customers</td>\n",
       "      <td>orig_lost_money</td>\n",
       "      <td>no_change</td>\n",
       "      <td>1</td>\n",
       "      <td>1</td>\n",
       "    </tr>\n",
       "    <tr>\n",
       "      <th>...</th>\n",
       "      <td>...</td>\n",
       "      <td>...</td>\n",
       "      <td>...</td>\n",
       "      <td>...</td>\n",
       "      <td>...</td>\n",
       "      <td>...</td>\n",
       "      <td>...</td>\n",
       "      <td>...</td>\n",
       "      <td>...</td>\n",
       "      <td>...</td>\n",
       "      <td>...</td>\n",
       "      <td>...</td>\n",
       "      <td>...</td>\n",
       "      <td>...</td>\n",
       "      <td>...</td>\n",
       "      <td>...</td>\n",
       "    </tr>\n",
       "    <tr>\n",
       "      <th>6279188</th>\n",
       "      <td>643</td>\n",
       "      <td>cash_out</td>\n",
       "      <td>4222595.06</td>\n",
       "      <td>C4856718</td>\n",
       "      <td>4222595.06</td>\n",
       "      <td>0.0</td>\n",
       "      <td>C488060391</td>\n",
       "      <td>0.0</td>\n",
       "      <td>4222595.06</td>\n",
       "      <td>1</td>\n",
       "      <td>0</td>\n",
       "      <td>customers</td>\n",
       "      <td>orig_lost_money</td>\n",
       "      <td>dest_earned_money</td>\n",
       "      <td>1</td>\n",
       "      <td>1</td>\n",
       "    </tr>\n",
       "    <tr>\n",
       "      <th>1678626</th>\n",
       "      <td>159</td>\n",
       "      <td>transfer</td>\n",
       "      <td>301193.32</td>\n",
       "      <td>C2089040405</td>\n",
       "      <td>301193.32</td>\n",
       "      <td>0.0</td>\n",
       "      <td>C1669420376</td>\n",
       "      <td>0.0</td>\n",
       "      <td>0.00</td>\n",
       "      <td>1</td>\n",
       "      <td>0</td>\n",
       "      <td>customers</td>\n",
       "      <td>orig_lost_money</td>\n",
       "      <td>no_change</td>\n",
       "      <td>1</td>\n",
       "      <td>1</td>\n",
       "    </tr>\n",
       "    <tr>\n",
       "      <th>1141253</th>\n",
       "      <td>131</td>\n",
       "      <td>transfer</td>\n",
       "      <td>7476725.66</td>\n",
       "      <td>C452889653</td>\n",
       "      <td>7476725.66</td>\n",
       "      <td>0.0</td>\n",
       "      <td>C1784013165</td>\n",
       "      <td>0.0</td>\n",
       "      <td>0.00</td>\n",
       "      <td>1</td>\n",
       "      <td>0</td>\n",
       "      <td>customers</td>\n",
       "      <td>orig_lost_money</td>\n",
       "      <td>no_change</td>\n",
       "      <td>1</td>\n",
       "      <td>1</td>\n",
       "    </tr>\n",
       "    <tr>\n",
       "      <th>3220578</th>\n",
       "      <td>250</td>\n",
       "      <td>cash_out</td>\n",
       "      <td>213463.32</td>\n",
       "      <td>C1263272342</td>\n",
       "      <td>213463.32</td>\n",
       "      <td>0.0</td>\n",
       "      <td>C744918576</td>\n",
       "      <td>0.0</td>\n",
       "      <td>115035.59</td>\n",
       "      <td>1</td>\n",
       "      <td>0</td>\n",
       "      <td>customers</td>\n",
       "      <td>orig_lost_money</td>\n",
       "      <td>dest_earned_money</td>\n",
       "      <td>1</td>\n",
       "      <td>1</td>\n",
       "    </tr>\n",
       "    <tr>\n",
       "      <th>286185</th>\n",
       "      <td>15</td>\n",
       "      <td>transfer</td>\n",
       "      <td>164500.81</td>\n",
       "      <td>C1761347420</td>\n",
       "      <td>164500.81</td>\n",
       "      <td>0.0</td>\n",
       "      <td>C383804904</td>\n",
       "      <td>0.0</td>\n",
       "      <td>0.00</td>\n",
       "      <td>1</td>\n",
       "      <td>0</td>\n",
       "      <td>customers</td>\n",
       "      <td>orig_lost_money</td>\n",
       "      <td>no_change</td>\n",
       "      <td>1</td>\n",
       "      <td>1</td>\n",
       "    </tr>\n",
       "  </tbody>\n",
       "</table>\n",
       "<p>542 rows × 16 columns</p>\n",
       "</div>"
      ],
      "text/plain": [
       "         step      type      amount    name_orig  old_balance_orig  \\\n",
       "6118831   537  transfer   266546.68  C1561774472         266546.68   \n",
       "5188005   363  cash_out  2115503.99   C429080055        2115503.99   \n",
       "3132355   236  cash_out   968651.23  C1843014674         968651.23   \n",
       "6273160   632  transfer    82209.71  C2014216295          82209.71   \n",
       "4991601   352  transfer   166456.54  C2019110541         166456.54   \n",
       "...       ...       ...         ...          ...               ...   \n",
       "6279188   643  cash_out  4222595.06     C4856718        4222595.06   \n",
       "1678626   159  transfer   301193.32  C2089040405         301193.32   \n",
       "1141253   131  transfer  7476725.66   C452889653        7476725.66   \n",
       "3220578   250  cash_out   213463.32  C1263272342         213463.32   \n",
       "286185     15  transfer   164500.81  C1761347420         164500.81   \n",
       "\n",
       "         new_balance_orig    name_dest  old_balance_dest  new_balance_dest  \\\n",
       "6118831               0.0   C351398995               0.0              0.00   \n",
       "5188005               0.0  C1734499928               0.0        2115503.99   \n",
       "3132355               0.0   C137145524               0.0         719852.88   \n",
       "6273160               0.0  C2066467731               0.0              0.00   \n",
       "4991601               0.0  C2098382104               0.0              0.00   \n",
       "...                   ...          ...               ...               ...   \n",
       "6279188               0.0   C488060391               0.0        4222595.06   \n",
       "1678626               0.0  C1669420376               0.0              0.00   \n",
       "1141253               0.0  C1784013165               0.0              0.00   \n",
       "3220578               0.0   C744918576               0.0         115035.59   \n",
       "286185                0.0   C383804904               0.0              0.00   \n",
       "\n",
       "         is_fraud  is_flagged_fraud  type_dest orig_transaction_status  \\\n",
       "6118831         1                 0  customers         orig_lost_money   \n",
       "5188005         1                 0  customers         orig_lost_money   \n",
       "3132355         1                 0  customers         orig_lost_money   \n",
       "6273160         1                 0  customers         orig_lost_money   \n",
       "4991601         1                 0  customers         orig_lost_money   \n",
       "...           ...               ...        ...                     ...   \n",
       "6279188         1                 0  customers         orig_lost_money   \n",
       "1678626         1                 0  customers         orig_lost_money   \n",
       "1141253         1                 0  customers         orig_lost_money   \n",
       "3220578         1                 0  customers         orig_lost_money   \n",
       "286185          1                 0  customers         orig_lost_money   \n",
       "\n",
       "        dest_transaction_status  orig_has_no_money  dest_had_no_money  \n",
       "6118831               no_change                  1                  1  \n",
       "5188005       dest_earned_money                  1                  1  \n",
       "3132355       dest_earned_money                  1                  1  \n",
       "6273160               no_change                  1                  1  \n",
       "4991601               no_change                  1                  1  \n",
       "...                         ...                ...                ...  \n",
       "6279188       dest_earned_money                  1                  1  \n",
       "1678626               no_change                  1                  1  \n",
       "1141253               no_change                  1                  1  \n",
       "3220578       dest_earned_money                  1                  1  \n",
       "286185                no_change                  1                  1  \n",
       "\n",
       "[542 rows x 16 columns]"
      ]
     },
     "execution_count": 45,
     "metadata": {},
     "output_type": "execute_result"
    }
   ],
   "source": [
    "# Contas Vazias\n",
    "dados4[(dados4['is_fraud']==1) & (dados4['old_balance_dest']==0)]"
   ]
  },
  {
   "cell_type": "code",
   "execution_count": 46,
   "id": "2d9cbc95",
   "metadata": {
    "ExecuteTime": {
     "end_time": "2022-06-21T23:57:26.507745Z",
     "start_time": "2022-06-21T23:57:26.496722Z"
    }
   },
   "outputs": [
    {
     "data": {
      "text/plain": [
       "0.6601705237515225"
      ]
     },
     "execution_count": 46,
     "metadata": {},
     "output_type": "execute_result"
    }
   ],
   "source": [
    "(dados4[dados4['is_fraud']==1]['old_balance_dest']==0).sum()/dados4[dados4['is_fraud']==1].shape[0]"
   ]
  },
  {
   "cell_type": "code",
   "execution_count": 47,
   "id": "da5e531c",
   "metadata": {
    "ExecuteTime": {
     "end_time": "2022-06-21T23:57:26.536932Z",
     "start_time": "2022-06-21T23:57:26.510842Z"
    }
   },
   "outputs": [
    {
     "data": {
      "text/html": [
       "<div>\n",
       "<style scoped>\n",
       "    .dataframe tbody tr th:only-of-type {\n",
       "        vertical-align: middle;\n",
       "    }\n",
       "\n",
       "    .dataframe tbody tr th {\n",
       "        vertical-align: top;\n",
       "    }\n",
       "\n",
       "    .dataframe thead th {\n",
       "        text-align: right;\n",
       "    }\n",
       "</style>\n",
       "<table border=\"1\" class=\"dataframe\">\n",
       "  <thead>\n",
       "    <tr style=\"text-align: right;\">\n",
       "      <th></th>\n",
       "      <th>step</th>\n",
       "      <th>type</th>\n",
       "      <th>amount</th>\n",
       "      <th>name_orig</th>\n",
       "      <th>old_balance_orig</th>\n",
       "      <th>new_balance_orig</th>\n",
       "      <th>name_dest</th>\n",
       "      <th>old_balance_dest</th>\n",
       "      <th>new_balance_dest</th>\n",
       "      <th>is_fraud</th>\n",
       "      <th>is_flagged_fraud</th>\n",
       "      <th>type_dest</th>\n",
       "      <th>orig_transaction_status</th>\n",
       "      <th>dest_transaction_status</th>\n",
       "      <th>orig_has_no_money</th>\n",
       "      <th>dest_had_no_money</th>\n",
       "    </tr>\n",
       "  </thead>\n",
       "  <tbody>\n",
       "    <tr>\n",
       "      <th>6281788</th>\n",
       "      <td>650</td>\n",
       "      <td>cash_out</td>\n",
       "      <td>230652.43</td>\n",
       "      <td>C821616305</td>\n",
       "      <td>230652.43</td>\n",
       "      <td>0.0</td>\n",
       "      <td>C1559145787</td>\n",
       "      <td>55063.86</td>\n",
       "      <td>285716.30</td>\n",
       "      <td>1</td>\n",
       "      <td>0</td>\n",
       "      <td>customers</td>\n",
       "      <td>orig_lost_money</td>\n",
       "      <td>dest_earned_money</td>\n",
       "      <td>1</td>\n",
       "      <td>0</td>\n",
       "    </tr>\n",
       "    <tr>\n",
       "      <th>2801142</th>\n",
       "      <td>224</td>\n",
       "      <td>cash_out</td>\n",
       "      <td>8752000.36</td>\n",
       "      <td>C333838421</td>\n",
       "      <td>8752000.36</td>\n",
       "      <td>0.0</td>\n",
       "      <td>C977281429</td>\n",
       "      <td>2914790.85</td>\n",
       "      <td>11666791.20</td>\n",
       "      <td>1</td>\n",
       "      <td>0</td>\n",
       "      <td>customers</td>\n",
       "      <td>orig_lost_money</td>\n",
       "      <td>dest_earned_money</td>\n",
       "      <td>1</td>\n",
       "      <td>0</td>\n",
       "    </tr>\n",
       "    <tr>\n",
       "      <th>6259927</th>\n",
       "      <td>603</td>\n",
       "      <td>cash_out</td>\n",
       "      <td>2319926.01</td>\n",
       "      <td>C1629072698</td>\n",
       "      <td>2319926.01</td>\n",
       "      <td>0.0</td>\n",
       "      <td>C1470265305</td>\n",
       "      <td>843706.68</td>\n",
       "      <td>3163632.69</td>\n",
       "      <td>1</td>\n",
       "      <td>0</td>\n",
       "      <td>customers</td>\n",
       "      <td>orig_lost_money</td>\n",
       "      <td>dest_earned_money</td>\n",
       "      <td>1</td>\n",
       "      <td>0</td>\n",
       "    </tr>\n",
       "    <tr>\n",
       "      <th>1699587</th>\n",
       "      <td>159</td>\n",
       "      <td>cash_out</td>\n",
       "      <td>474052.54</td>\n",
       "      <td>C642633931</td>\n",
       "      <td>474052.54</td>\n",
       "      <td>0.0</td>\n",
       "      <td>C372032326</td>\n",
       "      <td>29256.42</td>\n",
       "      <td>503308.95</td>\n",
       "      <td>1</td>\n",
       "      <td>0</td>\n",
       "      <td>customers</td>\n",
       "      <td>orig_lost_money</td>\n",
       "      <td>dest_earned_money</td>\n",
       "      <td>1</td>\n",
       "      <td>0</td>\n",
       "    </tr>\n",
       "    <tr>\n",
       "      <th>1030464</th>\n",
       "      <td>66</td>\n",
       "      <td>cash_out</td>\n",
       "      <td>272791.44</td>\n",
       "      <td>C1671353324</td>\n",
       "      <td>272791.44</td>\n",
       "      <td>0.0</td>\n",
       "      <td>C1524911570</td>\n",
       "      <td>715267.02</td>\n",
       "      <td>988058.46</td>\n",
       "      <td>1</td>\n",
       "      <td>0</td>\n",
       "      <td>customers</td>\n",
       "      <td>orig_lost_money</td>\n",
       "      <td>dest_earned_money</td>\n",
       "      <td>1</td>\n",
       "      <td>0</td>\n",
       "    </tr>\n",
       "    <tr>\n",
       "      <th>...</th>\n",
       "      <td>...</td>\n",
       "      <td>...</td>\n",
       "      <td>...</td>\n",
       "      <td>...</td>\n",
       "      <td>...</td>\n",
       "      <td>...</td>\n",
       "      <td>...</td>\n",
       "      <td>...</td>\n",
       "      <td>...</td>\n",
       "      <td>...</td>\n",
       "      <td>...</td>\n",
       "      <td>...</td>\n",
       "      <td>...</td>\n",
       "      <td>...</td>\n",
       "      <td>...</td>\n",
       "      <td>...</td>\n",
       "    </tr>\n",
       "    <tr>\n",
       "      <th>1030476</th>\n",
       "      <td>66</td>\n",
       "      <td>cash_out</td>\n",
       "      <td>2322909.69</td>\n",
       "      <td>C548911578</td>\n",
       "      <td>2322909.69</td>\n",
       "      <td>0.0</td>\n",
       "      <td>C1075176822</td>\n",
       "      <td>875613.05</td>\n",
       "      <td>3198522.74</td>\n",
       "      <td>1</td>\n",
       "      <td>0</td>\n",
       "      <td>customers</td>\n",
       "      <td>orig_lost_money</td>\n",
       "      <td>dest_earned_money</td>\n",
       "      <td>1</td>\n",
       "      <td>0</td>\n",
       "    </tr>\n",
       "    <tr>\n",
       "      <th>6166271</th>\n",
       "      <td>551</td>\n",
       "      <td>cash_out</td>\n",
       "      <td>3774777.76</td>\n",
       "      <td>C1440842391</td>\n",
       "      <td>3774777.76</td>\n",
       "      <td>0.0</td>\n",
       "      <td>C1163108586</td>\n",
       "      <td>597455.51</td>\n",
       "      <td>4372233.27</td>\n",
       "      <td>1</td>\n",
       "      <td>0</td>\n",
       "      <td>customers</td>\n",
       "      <td>orig_lost_money</td>\n",
       "      <td>dest_earned_money</td>\n",
       "      <td>1</td>\n",
       "      <td>0</td>\n",
       "    </tr>\n",
       "    <tr>\n",
       "      <th>6302451</th>\n",
       "      <td>683</td>\n",
       "      <td>cash_out</td>\n",
       "      <td>73929.99</td>\n",
       "      <td>C652139882</td>\n",
       "      <td>73929.99</td>\n",
       "      <td>0.0</td>\n",
       "      <td>C641860418</td>\n",
       "      <td>1640832.48</td>\n",
       "      <td>1714762.47</td>\n",
       "      <td>1</td>\n",
       "      <td>0</td>\n",
       "      <td>customers</td>\n",
       "      <td>orig_lost_money</td>\n",
       "      <td>dest_earned_money</td>\n",
       "      <td>1</td>\n",
       "      <td>0</td>\n",
       "    </tr>\n",
       "    <tr>\n",
       "      <th>6119236</th>\n",
       "      <td>538</td>\n",
       "      <td>cash_out</td>\n",
       "      <td>1392337.38</td>\n",
       "      <td>C874241747</td>\n",
       "      <td>1392337.38</td>\n",
       "      <td>0.0</td>\n",
       "      <td>C762678995</td>\n",
       "      <td>125815.90</td>\n",
       "      <td>1518153.28</td>\n",
       "      <td>1</td>\n",
       "      <td>0</td>\n",
       "      <td>customers</td>\n",
       "      <td>orig_lost_money</td>\n",
       "      <td>dest_earned_money</td>\n",
       "      <td>1</td>\n",
       "      <td>0</td>\n",
       "    </tr>\n",
       "    <tr>\n",
       "      <th>6008693</th>\n",
       "      <td>437</td>\n",
       "      <td>cash_out</td>\n",
       "      <td>119041.12</td>\n",
       "      <td>C1186588727</td>\n",
       "      <td>119041.12</td>\n",
       "      <td>0.0</td>\n",
       "      <td>C1803677930</td>\n",
       "      <td>1755159.60</td>\n",
       "      <td>1874200.73</td>\n",
       "      <td>1</td>\n",
       "      <td>0</td>\n",
       "      <td>customers</td>\n",
       "      <td>orig_lost_money</td>\n",
       "      <td>dest_earned_money</td>\n",
       "      <td>1</td>\n",
       "      <td>0</td>\n",
       "    </tr>\n",
       "  </tbody>\n",
       "</table>\n",
       "<p>279 rows × 16 columns</p>\n",
       "</div>"
      ],
      "text/plain": [
       "         step      type      amount    name_orig  old_balance_orig  \\\n",
       "6281788   650  cash_out   230652.43   C821616305         230652.43   \n",
       "2801142   224  cash_out  8752000.36   C333838421        8752000.36   \n",
       "6259927   603  cash_out  2319926.01  C1629072698        2319926.01   \n",
       "1699587   159  cash_out   474052.54   C642633931         474052.54   \n",
       "1030464    66  cash_out   272791.44  C1671353324         272791.44   \n",
       "...       ...       ...         ...          ...               ...   \n",
       "1030476    66  cash_out  2322909.69   C548911578        2322909.69   \n",
       "6166271   551  cash_out  3774777.76  C1440842391        3774777.76   \n",
       "6302451   683  cash_out    73929.99   C652139882          73929.99   \n",
       "6119236   538  cash_out  1392337.38   C874241747        1392337.38   \n",
       "6008693   437  cash_out   119041.12  C1186588727         119041.12   \n",
       "\n",
       "         new_balance_orig    name_dest  old_balance_dest  new_balance_dest  \\\n",
       "6281788               0.0  C1559145787          55063.86         285716.30   \n",
       "2801142               0.0   C977281429        2914790.85       11666791.20   \n",
       "6259927               0.0  C1470265305         843706.68        3163632.69   \n",
       "1699587               0.0   C372032326          29256.42         503308.95   \n",
       "1030464               0.0  C1524911570         715267.02         988058.46   \n",
       "...                   ...          ...               ...               ...   \n",
       "1030476               0.0  C1075176822         875613.05        3198522.74   \n",
       "6166271               0.0  C1163108586         597455.51        4372233.27   \n",
       "6302451               0.0   C641860418        1640832.48        1714762.47   \n",
       "6119236               0.0   C762678995         125815.90        1518153.28   \n",
       "6008693               0.0  C1803677930        1755159.60        1874200.73   \n",
       "\n",
       "         is_fraud  is_flagged_fraud  type_dest orig_transaction_status  \\\n",
       "6281788         1                 0  customers         orig_lost_money   \n",
       "2801142         1                 0  customers         orig_lost_money   \n",
       "6259927         1                 0  customers         orig_lost_money   \n",
       "1699587         1                 0  customers         orig_lost_money   \n",
       "1030464         1                 0  customers         orig_lost_money   \n",
       "...           ...               ...        ...                     ...   \n",
       "1030476         1                 0  customers         orig_lost_money   \n",
       "6166271         1                 0  customers         orig_lost_money   \n",
       "6302451         1                 0  customers         orig_lost_money   \n",
       "6119236         1                 0  customers         orig_lost_money   \n",
       "6008693         1                 0  customers         orig_lost_money   \n",
       "\n",
       "        dest_transaction_status  orig_has_no_money  dest_had_no_money  \n",
       "6281788       dest_earned_money                  1                  0  \n",
       "2801142       dest_earned_money                  1                  0  \n",
       "6259927       dest_earned_money                  1                  0  \n",
       "1699587       dest_earned_money                  1                  0  \n",
       "1030464       dest_earned_money                  1                  0  \n",
       "...                         ...                ...                ...  \n",
       "1030476       dest_earned_money                  1                  0  \n",
       "6166271       dest_earned_money                  1                  0  \n",
       "6302451       dest_earned_money                  1                  0  \n",
       "6119236       dest_earned_money                  1                  0  \n",
       "6008693       dest_earned_money                  1                  0  \n",
       "\n",
       "[279 rows x 16 columns]"
      ]
     },
     "execution_count": 47,
     "metadata": {},
     "output_type": "execute_result"
    }
   ],
   "source": [
    "# Contas já com dinheiro\n",
    "dados4[(dados4['is_fraud']==1) & (dados4['old_balance_dest']!=0)]"
   ]
  },
  {
   "cell_type": "code",
   "execution_count": 48,
   "id": "251febf0",
   "metadata": {
    "ExecuteTime": {
     "end_time": "2022-06-21T23:57:26.549028Z",
     "start_time": "2022-06-21T23:57:26.540133Z"
    }
   },
   "outputs": [
    {
     "data": {
      "text/plain": [
       "0.3398294762484775"
      ]
     },
     "execution_count": 48,
     "metadata": {},
     "output_type": "execute_result"
    }
   ],
   "source": [
    "(dados4[dados4['is_fraud']==1]['old_balance_dest']!=0).sum()/dados4[dados4['is_fraud']==1].shape[0]"
   ]
  },
  {
   "cell_type": "markdown",
   "id": "b3310230",
   "metadata": {},
   "source": [
    "## 4.4 Multivariate Analysis"
   ]
  },
  {
   "cell_type": "code",
   "execution_count": 49,
   "id": "509318ed",
   "metadata": {
    "ExecuteTime": {
     "end_time": "2022-06-21T23:57:27.134255Z",
     "start_time": "2022-06-21T23:57:26.551426Z"
    }
   },
   "outputs": [
    {
     "data": {
      "image/png": "[encoded data removed]",
      "text/plain": [
       "<Figure size 1152x1152 with 1 Axes>"
      ]
     },
     "metadata": {
      "needs_background": "light"
     },
     "output_type": "display_data"
    }
   ],
   "source": [
    "plt.figure(figsize=(16,16))\n",
    "sns.heatmap(dados4.corr(),annot=True,fmt='.2f',cbar=False);"
   ]
  },
  {
   "cell_type": "markdown",
   "id": "a66e1f5f",
   "metadata": {},
   "source": [
    "# 5.0 Data Filtering"
   ]
  },
  {
   "cell_type": "code",
   "execution_count": 50,
   "id": "1a5a3587",
   "metadata": {
    "ExecuteTime": {
     "end_time": "2022-06-21T23:57:27.167318Z",
     "start_time": "2022-06-21T23:57:27.135606Z"
    }
   },
   "outputs": [],
   "source": [
    "dados5 = dados4.copy()"
   ]
  },
  {
   "cell_type": "code",
   "execution_count": 51,
   "id": "b7eede5a",
   "metadata": {
    "ExecuteTime": {
     "end_time": "2022-06-21T23:57:27.223606Z",
     "start_time": "2022-06-21T23:57:27.168686Z"
    }
   },
   "outputs": [],
   "source": [
    "# Não vou modelar com isso, não é o que eu quero modelar, que é o comportamento de uma transação fraudulenta!\n",
    "# Pode overfitar o modelo! \n",
    "dados5.drop(['name_orig','name_dest'],1,inplace=True)"
   ]
  },
  {
   "cell_type": "markdown",
   "id": "7ea8e63b",
   "metadata": {},
   "source": [
    "# 6.0 Data Preparation"
   ]
  },
  {
   "cell_type": "code",
   "execution_count": 52,
   "id": "1bc8d893",
   "metadata": {
    "ExecuteTime": {
     "end_time": "2022-06-21T23:57:27.241456Z",
     "start_time": "2022-06-21T23:57:27.224924Z"
    }
   },
   "outputs": [],
   "source": [
    "dados6 = dados5.copy()"
   ]
  },
  {
   "cell_type": "markdown",
   "id": "60c6762d",
   "metadata": {},
   "source": [
    "## 6.1 Split Data"
   ]
  },
  {
   "cell_type": "code",
   "execution_count": 53,
   "id": "914ab585",
   "metadata": {
    "ExecuteTime": {
     "end_time": "2022-06-21T23:57:27.641644Z",
     "start_time": "2022-06-21T23:57:27.242709Z"
    }
   },
   "outputs": [],
   "source": [
    "x,y = dados6.drop('is_fraud',1),dados6['is_fraud']\n",
    "x_train_val,x_test,y_train_val,y_test = train_test_split(x,y,test_size=0.1,random_state=101,stratify=y)\n",
    "x_train,x_val,y_train,y_val = train_test_split(x_train_val,y_train_val,test_size=0.2,random_state=101,stratify=y_train_val)"
   ]
  },
  {
   "cell_type": "markdown",
   "id": "7afd043e",
   "metadata": {},
   "source": [
    "## 6.2 Encoding"
   ]
  },
  {
   "cell_type": "code",
   "execution_count": 54,
   "id": "900bc6d3",
   "metadata": {
    "ExecuteTime": {
     "end_time": "2022-06-21T23:57:28.779388Z",
     "start_time": "2022-06-21T23:57:27.642868Z"
    }
   },
   "outputs": [],
   "source": [
    "# type (multiclass)\n",
    "ohe = OneHotEncoder(cols=['type'],use_cat_names=True)\n",
    "ohe.fit(x_train)\n",
    "x_train = ohe.transform(x_train).drop('type_debit',1) # avoid dummy trap\n",
    "x_val = ohe.transform(x_val).drop('type_debit',1) # avoid dummy trap\n",
    "x_test = ohe.transform(x_test).drop('type_debit',1) # avoid dummy trap\n",
    "pkl.dump(ohe,open('/Users/nando/Comunidade DS/fraud/deploy/local_deploy/pkl/ohe.pkl','wb'))\n",
    "pkl.dump(ohe,open('/Users/nando/Comunidade DS/fraud/deploy/cloud_deploy/pkl/ohe.pkl','wb'))\n",
    "\n",
    "# type_dest (binary)\n",
    "le = LabelEncoder()\n",
    "le.fit(x_train['type_dest'])\n",
    "x_train['type_dest'] = le.transform(x_train['type_dest'])\n",
    "x_val['type_dest'] = le.transform(x_val['type_dest'])\n",
    "x_test['type_dest'] = le.transform(x_test['type_dest'])\n",
    "pkl.dump(le,open('/Users/nando/Comunidade DS/fraud/deploy/local_deploy/pkl/le.pkl','wb'))\n",
    "pkl.dump(le,open('/Users/nando/Comunidade DS/fraud/deploy/cloud_deploy/pkl/le.pkl','wb'))\n",
    "\n",
    "# orig_transaction_status (ordinal)\n",
    "ordinal_map = {'orig_earned_money':1, 'orig_lost_money':-1, 'no_change':0}\n",
    "x_train['orig_transaction_status'] = x_train['orig_transaction_status'].map(ordinal_map)\n",
    "x_val['orig_transaction_status'] = x_val['orig_transaction_status'].map(ordinal_map)\n",
    "x_test['orig_transaction_status'] = x_test['orig_transaction_status'].map(ordinal_map)\n",
    "\n",
    "# dest_transaction_status (ordinal)\n",
    "ordinal_map = {'dest_earned_money':1, 'dest_lost_money':-1, 'no_change':0}\n",
    "x_train['dest_transaction_status'] = x_train['dest_transaction_status'].map(ordinal_map)\n",
    "x_val['dest_transaction_status'] = x_val['dest_transaction_status'].map(ordinal_map)\n",
    "x_test['dest_transaction_status'] = x_test['dest_transaction_status'].map(ordinal_map)"
   ]
  },
  {
   "cell_type": "markdown",
   "id": "0251ebb5",
   "metadata": {},
   "source": [
    "## 6.3 Rebalance"
   ]
  },
  {
   "cell_type": "code",
   "execution_count": 55,
   "id": "d3e6e3de",
   "metadata": {
    "ExecuteTime": {
     "end_time": "2022-06-21T23:57:29.138305Z",
     "start_time": "2022-06-21T23:57:28.780558Z"
    }
   },
   "outputs": [],
   "source": [
    "combine = SMOTE(n_jobs=-1)\n",
    "x_train,y_train = combine.fit_resample(x_train,y_train)"
   ]
  },
  {
   "cell_type": "markdown",
   "id": "1fe069af",
   "metadata": {
    "ExecuteTime": {
     "end_time": "2022-06-18T05:03:25.307216Z",
     "start_time": "2022-06-18T05:03:25.302013Z"
    }
   },
   "source": [
    "## 6.4 Rescale"
   ]
  },
  {
   "cell_type": "code",
   "execution_count": 56,
   "id": "62e8dbf9",
   "metadata": {
    "ExecuteTime": {
     "end_time": "2022-06-21T23:57:29.358958Z",
     "start_time": "2022-06-21T23:57:29.139654Z"
    }
   },
   "outputs": [],
   "source": [
    "columns = ['step', 'type_transfer', 'type_cash_out', 'type_payment','type_cash_in', 'amount', 'old_balance_orig', 'new_balance_orig','old_balance_dest', 'new_balance_dest', 'is_flagged_fraud', 'type_dest','orig_transaction_status', 'dest_transaction_status','orig_has_no_money', 'dest_had_no_money']\n",
    "mms = MinMaxScaler()\n",
    "mms.fit(x_train)\n",
    "x_train = pd.DataFrame(mms.transform(x_train),columns=columns)\n",
    "x_val = pd.DataFrame(mms.transform(x_val),columns=columns)\n",
    "x_test = pd.DataFrame(mms.transform(x_test),columns=columns)\n",
    "pkl.dump(mms,open('/Users/nando/Comunidade DS/fraud/deploy/local_deploy/pkl/mms.pkl','wb'))\n",
    "pkl.dump(mms,open('/Users/nando/Comunidade DS/fraud/deploy/cloud_deploy/pkl/mms.pkl','wb'))"
   ]
  },
  {
   "cell_type": "markdown",
   "id": "9fea4197",
   "metadata": {},
   "source": [
    "## 6.5 Feature Selection"
   ]
  },
  {
   "cell_type": "code",
   "execution_count": 57,
   "id": "ed50a61b",
   "metadata": {
    "ExecuteTime": {
     "end_time": "2022-06-21T23:57:55.027474Z",
     "start_time": "2022-06-21T23:57:29.360105Z"
    }
   },
   "outputs": [
    {
     "data": {
      "image/png": "[encoded data removed]",
      "text/plain": [
       "<Figure size 1152x720 with 1 Axes>"
      ]
     },
     "metadata": {
      "needs_background": "light"
     },
     "output_type": "display_data"
    }
   ],
   "source": [
    "rf = RandomForestClassifier(n_jobs=-1,class_weight='balanced')\n",
    "rf.fit(x_train,y_train)\n",
    "\n",
    "aux = pd.DataFrame([x_train.columns,rf.feature_importances_]).T\n",
    "aux = aux.rename(columns={0:'features',1:'importance'})\n",
    "aux = aux.sort_values(by='importance',ascending=False)\n",
    "\n",
    "plt.figure(figsize=(16,10))\n",
    "sns.barplot(x=aux['importance'],y=aux['features']);"
   ]
  },
  {
   "cell_type": "code",
   "execution_count": 58,
   "id": "2e5039da",
   "metadata": {
    "ExecuteTime": {
     "end_time": "2022-06-21T23:57:55.062071Z",
     "start_time": "2022-06-21T23:57:55.042001Z"
    }
   },
   "outputs": [],
   "source": [
    "cols_selected = ['step','old_balance_orig','new_balance_dest','dest_transaction_status','orig_transaction_status','amount','type_payment','type_transfer','type_dest','orig_has_no_money']"
   ]
  },
  {
   "cell_type": "code",
   "execution_count": 59,
   "id": "e7b478b5",
   "metadata": {
    "ExecuteTime": {
     "end_time": "2022-06-21T23:57:55.091978Z",
     "start_time": "2022-06-21T23:57:55.064980Z"
    }
   },
   "outputs": [],
   "source": [
    "#cols_selected = x_train.columns.difference(['is_flagged_fraud','dest_had_no_money','type_cash_in','old_balance_dest','type_cash_out','dest_transaction_status'])\n",
    "x_train = x_train[cols_selected]\n",
    "x_val = x_val[cols_selected]\n",
    "x_test = x_test[cols_selected]"
   ]
  },
  {
   "cell_type": "markdown",
   "id": "3338f982",
   "metadata": {},
   "source": [
    "# 7.0 Model Selection and Evaluation"
   ]
  },
  {
   "cell_type": "markdown",
   "id": "3c3645d1",
   "metadata": {},
   "source": [
    "## 7.1 Hold-Out"
   ]
  },
  {
   "cell_type": "code",
   "execution_count": 230,
   "id": "1386eaf1",
   "metadata": {
    "ExecuteTime": {
     "end_time": "2022-06-19T21:09:30.190637Z",
     "start_time": "2022-06-19T21:09:30.186669Z"
    }
   },
   "outputs": [],
   "source": [
    "def holdout_results(model,x_train,y_train,x_test,y_test):\n",
    "    \n",
    "    model.fit(x_train,y_train)\n",
    "    \n",
    "    y_pred = model.predict(x_test)\n",
    "    accuracy = m.accuracy_score(y_test,y_pred)\n",
    "    precision = m.precision_score(y_test,y_pred)\n",
    "    recall = m.recall_score(y_test,y_pred)\n",
    "    f1_score = m.f1_score(y_test,y_pred)\n",
    "    roc_auc = m.roc_auc_score(y_test,y_pred)\n",
    "    \n",
    "    print('Accuracy: {:.3f}\\nPrecision: {:.3f}\\nRecall: {:.3f}\\nF1 Score: {:.3f}\\nROC AUC: {:.3f}'.format(accuracy,precision,recall,f1_score,roc_auc))"
   ]
  },
  {
   "cell_type": "markdown",
   "id": "fc2f1483",
   "metadata": {},
   "source": [
    "### 7.1.1 Decision Tree"
   ]
  },
  {
   "cell_type": "code",
   "execution_count": 231,
   "id": "859ae798",
   "metadata": {
    "ExecuteTime": {
     "end_time": "2022-06-19T21:09:34.221141Z",
     "start_time": "2022-06-19T21:09:30.195152Z"
    }
   },
   "outputs": [
    {
     "name": "stdout",
     "output_type": "stream",
     "text": [
      "Accuracy: 0.999\n",
      "Precision: 0.555\n",
      "Recall: 0.858\n",
      "F1 Score: 0.674\n",
      "ROC AUC: 0.929\n"
     ]
    }
   ],
   "source": [
    "holdout_results(DecisionTreeClassifier(),x_train,y_train,x_val,y_val)"
   ]
  },
  {
   "cell_type": "markdown",
   "id": "e7042ecf",
   "metadata": {},
   "source": [
    "### 7.1.2 Logistic Regression"
   ]
  },
  {
   "cell_type": "code",
   "execution_count": 232,
   "id": "b2cf2a27",
   "metadata": {
    "ExecuteTime": {
     "end_time": "2022-06-19T21:09:40.588556Z",
     "start_time": "2022-06-19T21:09:34.222607Z"
    }
   },
   "outputs": [
    {
     "name": "stdout",
     "output_type": "stream",
     "text": [
      "Accuracy: 0.869\n",
      "Precision: 0.009\n",
      "Recall: 0.946\n",
      "F1 Score: 0.018\n",
      "ROC AUC: 0.908\n"
     ]
    }
   ],
   "source": [
    "holdout_results(LogisticRegression(class_weight='balanced'),x_train,y_train,x_val,y_val)"
   ]
  },
  {
   "cell_type": "markdown",
   "id": "4d3c0c9b",
   "metadata": {},
   "source": [
    "### 7.1.3 Naive Bayes"
   ]
  },
  {
   "cell_type": "code",
   "execution_count": 233,
   "id": "6b691ffa",
   "metadata": {
    "ExecuteTime": {
     "end_time": "2022-06-19T21:09:40.908197Z",
     "start_time": "2022-06-19T21:09:40.613365Z"
    }
   },
   "outputs": [
    {
     "name": "stdout",
     "output_type": "stream",
     "text": [
      "Accuracy: 0.808\n",
      "Precision: 0.007\n",
      "Recall: 0.993\n",
      "F1 Score: 0.013\n",
      "ROC AUC: 0.900\n"
     ]
    }
   ],
   "source": [
    "holdout_results(GaussianNB(),x_train,y_train,x_val,y_val)"
   ]
  },
  {
   "cell_type": "code",
   "execution_count": 234,
   "id": "c84529a9",
   "metadata": {
    "ExecuteTime": {
     "end_time": "2022-06-19T21:09:41.223313Z",
     "start_time": "2022-06-19T21:09:40.909434Z"
    }
   },
   "outputs": [
    {
     "name": "stdout",
     "output_type": "stream",
     "text": [
      "Accuracy: 0.725\n",
      "Precision: 0.005\n",
      "Recall: 0.993\n",
      "F1 Score: 0.009\n",
      "ROC AUC: 0.859\n"
     ]
    }
   ],
   "source": [
    "holdout_results(MultinomialNB(),x_train,y_train,x_val,y_val)"
   ]
  },
  {
   "cell_type": "markdown",
   "id": "b9439b6d",
   "metadata": {},
   "source": [
    "### 7.1.4 Random Forest"
   ]
  },
  {
   "cell_type": "code",
   "execution_count": 235,
   "id": "61e0e4d0",
   "metadata": {
    "ExecuteTime": {
     "end_time": "2022-06-19T21:10:03.718256Z",
     "start_time": "2022-06-19T21:09:41.225494Z"
    }
   },
   "outputs": [
    {
     "name": "stdout",
     "output_type": "stream",
     "text": [
      "Accuracy: 0.999\n",
      "Precision: 0.603\n",
      "Recall: 0.932\n",
      "F1 Score: 0.732\n",
      "ROC AUC: 0.966\n"
     ]
    }
   ],
   "source": [
    "holdout_results(RandomForestClassifier(class_weight='balanced',n_jobs=-1),x_train,y_train,x_val,y_val)"
   ]
  },
  {
   "cell_type": "markdown",
   "id": "3e8522c7",
   "metadata": {},
   "source": [
    "### 7.1.5 LGBM"
   ]
  },
  {
   "cell_type": "code",
   "execution_count": 236,
   "id": "dff47f83",
   "metadata": {
    "ExecuteTime": {
     "end_time": "2022-06-19T21:10:06.345359Z",
     "start_time": "2022-06-19T21:10:03.719539Z"
    }
   },
   "outputs": [
    {
     "name": "stdout",
     "output_type": "stream",
     "text": [
      "Accuracy: 0.997\n",
      "Precision: 0.337\n",
      "Recall: 0.986\n",
      "F1 Score: 0.503\n",
      "ROC AUC: 0.992\n"
     ]
    }
   ],
   "source": [
    "holdout_results(LGBMClassifier(class_weight='balanced',n_jobs=-1),x_train,y_train,x_val,y_val)"
   ]
  },
  {
   "cell_type": "markdown",
   "id": "ce1fae44",
   "metadata": {},
   "source": [
    "### 7.1.6 XGBoost"
   ]
  },
  {
   "cell_type": "code",
   "execution_count": 237,
   "id": "ba29321f",
   "metadata": {
    "ExecuteTime": {
     "end_time": "2022-06-19T21:10:49.501630Z",
     "start_time": "2022-06-19T21:10:06.347538Z"
    }
   },
   "outputs": [
    {
     "name": "stdout",
     "output_type": "stream",
     "text": [
      "Accuracy: 0.999\n",
      "Precision: 0.505\n",
      "Recall: 0.980\n",
      "F1 Score: 0.667\n",
      "ROC AUC: 0.989\n"
     ]
    }
   ],
   "source": [
    "holdout_results(XGBClassifier(scale_pos_weight = y_train.value_counts()[0] / y_train.value_counts()[1],n_jobs=-1),x_train,y_train,x_val,y_val)"
   ]
  },
  {
   "cell_type": "markdown",
   "id": "c519373d",
   "metadata": {},
   "source": [
    "## 7.2 Cross Validation"
   ]
  },
  {
   "cell_type": "code",
   "execution_count": 238,
   "id": "c9282991",
   "metadata": {
    "ExecuteTime": {
     "end_time": "2022-06-19T21:10:49.514170Z",
     "start_time": "2022-06-19T21:10:49.503789Z"
    }
   },
   "outputs": [],
   "source": [
    "def data_preparation(x_train,x_test,y_train,y_test):\n",
    "    \n",
    "    ## 6.2 Encoding\n",
    "    # type (multiclass)\n",
    "    ohe = OneHotEncoder(cols=['type'],use_cat_names=True)\n",
    "    ohe.fit(x_train)\n",
    "    x_train = ohe.transform(x_train).drop('type_debit',1) # avoid dummy trap\n",
    "    x_test = ohe.transform(x_test).drop('type_debit',1) # avoid dummy trap\n",
    "\n",
    "    # type_dest (binary)\n",
    "    le = LabelEncoder()\n",
    "    le.fit(x_train['type_dest'])\n",
    "    x_train['type_dest'] = le.transform(x_train['type_dest'])\n",
    "    x_test['type_dest'] = le.transform(x_test['type_dest'])\n",
    "\n",
    "    # orig_transaction_status (ordinal)\n",
    "    ordinal_map = {'orig_earned_money':2, 'orig_lost_money':1, 'no_change':0}\n",
    "    x_train['orig_transaction_status'] = x_train['orig_transaction_status'].map(ordinal_map)\n",
    "    x_test['orig_transaction_status'] = x_test['orig_transaction_status'].map(ordinal_map)\n",
    "    \n",
    "    # dest_transaction_status (ordinal)\n",
    "    ordinal_map = {'dest_earned_money':1, 'dest_lost_money':-1, 'no_change':0}\n",
    "    x_train['dest_transaction_status'] = x_train['dest_transaction_status'].map(ordinal_map)\n",
    "    x_test['dest_transaction_status'] = x_test['dest_transaction_status'].map(ordinal_map)\n",
    "\n",
    "    ## 6.3 Rebalance\n",
    "    combine = SMOTE(n_jobs=-1)\n",
    "    x_train,y_train = combine.fit_resample(x_train,y_train)\n",
    "\n",
    "    ## 6.4 Rescale\n",
    "    columns = ['step', 'type_transfer', 'type_cash_out', 'type_payment','type_cash_in', 'amount', 'old_balance_orig', 'new_balance_orig','old_balance_dest', 'new_balance_dest', 'is_flagged_fraud', 'type_dest','orig_transaction_status', 'dest_transaction_status','orig_has_no_money', 'dest_had_no_money']\n",
    "    mms = MinMaxScaler()\n",
    "    mms.fit(x_train)\n",
    "    x_train = pd.DataFrame(mms.transform(x_train),columns=columns)\n",
    "    x_test = pd.DataFrame(mms.transform(x_test),columns=columns)\n",
    "\n",
    "    ## 6.5 Feature Selection\n",
    "    cols_selected =['step','old_balance_orig','new_balance_dest','dest_transaction_status','orig_transaction_status','amount','type_payment','type_transfer','type_dest','orig_has_no_money']\n",
    "    x_train = x_train[cols_selected]\n",
    "    x_test = x_test[cols_selected]\n",
    "    \n",
    "    return x_train,x_test,y_train,y_test"
   ]
  },
  {
   "cell_type": "code",
   "execution_count": 239,
   "id": "003f3213",
   "metadata": {
    "ExecuteTime": {
     "end_time": "2022-06-19T21:10:49.524914Z",
     "start_time": "2022-06-19T21:10:49.517055Z"
    }
   },
   "outputs": [],
   "source": [
    "def cross_validation(model,x,y,cv_splitter):\n",
    "    accuracy,precision,recall,f1_score,roc_auc = [],[],[],[],[]\n",
    "    for fold, (train_index,test_index) in enumerate(cv_splitter.split(x,y)):\n",
    "        print(f'Fold nº {fold+1}!')\n",
    "        x_train,y_train,x_test,y_test = x.loc[train_index],y.loc[train_index],x.loc[test_index],y.loc[test_index]\n",
    "        \n",
    "        x_train,x_test,y_train,y_test = data_preparation(x_train,x_test,y_train,y_test)\n",
    "\n",
    "        model.fit(x_train,y_train)\n",
    "        y_pred = model.predict(x_test)\n",
    "\n",
    "        accuracy.append(m.accuracy_score(y_test,y_pred))\n",
    "        precision.append(m.precision_score(y_test,y_pred))\n",
    "        recall.append(m.recall_score(y_test,y_pred))\n",
    "        f1_score.append(m.f1_score(y_test,y_pred))\n",
    "        roc_auc.append(m.roc_auc_score(y_test,y_pred))\n",
    "\n",
    "    print('\\nAccuracy: {:.3f} +/- {:.3f}\\nPrecision: {:.3f} +/- {:.3f}\\nRecall: {:.3f} +/- {:.3f}\\nF1 Score: {:.3f} +/- {:.3f}\\nROC AUC: {:.3f} +/- {:.3f}'.format(np.mean(accuracy),np.std(accuracy),np.mean(precision),np.std(precision),np.mean(recall),np.std(recall),np.mean(f1_score),np.std(f1_score),np.mean(roc_auc),np.std(roc_auc)))"
   ]
  },
  {
   "cell_type": "markdown",
   "id": "d1986a24",
   "metadata": {},
   "source": [
    "### 7.1.1 Decision Tree"
   ]
  },
  {
   "cell_type": "code",
   "execution_count": 243,
   "id": "253d25d3",
   "metadata": {
    "ExecuteTime": {
     "end_time": "2022-06-19T21:11:36.660407Z",
     "start_time": "2022-06-19T21:11:21.006277Z"
    }
   },
   "outputs": [
    {
     "name": "stdout",
     "output_type": "stream",
     "text": [
      "Fold nº 1!\n",
      "Fold nº 2!\n",
      "Fold nº 3!\n",
      "\n",
      "Accuracy: 0.999 +/- 0.000\n",
      "Precision: 0.565 +/- 0.034\n",
      "Recall: 0.912 +/- 0.006\n",
      "F1 Score: 0.697 +/- 0.026\n",
      "ROC AUC: 0.956 +/- 0.003\n"
     ]
    }
   ],
   "source": [
    "cross_validation(DecisionTreeClassifier(),x.reset_index(drop=True),y.reset_index(drop=True),StratifiedKFold(n_splits=3))"
   ]
  },
  {
   "cell_type": "code",
   "execution_count": 244,
   "id": "431285eb",
   "metadata": {
    "ExecuteTime": {
     "end_time": "2022-06-19T21:11:52.296398Z",
     "start_time": "2022-06-19T21:11:36.661670Z"
    },
    "scrolled": true
   },
   "outputs": [
    {
     "name": "stdout",
     "output_type": "stream",
     "text": [
      "Fold nº 1!\n",
      "Fold nº 2!\n",
      "Fold nº 3!\n",
      "\n",
      "Accuracy: 0.999 +/- 0.000\n",
      "Precision: 0.568 +/- 0.029\n",
      "Recall: 0.907 +/- 0.003\n",
      "F1 Score: 0.698 +/- 0.022\n",
      "ROC AUC: 0.953 +/- 0.002\n"
     ]
    }
   ],
   "source": [
    "cross_validation(DecisionTreeClassifier(),x.reset_index(drop=True),y.reset_index(drop=True),StratifiedKFold(n_splits=3))"
   ]
  },
  {
   "cell_type": "markdown",
   "id": "28b8c77c",
   "metadata": {},
   "source": [
    "### 7.1.2 Random Forest"
   ]
  },
  {
   "cell_type": "code",
   "execution_count": 245,
   "id": "a2644179",
   "metadata": {
    "ExecuteTime": {
     "end_time": "2022-06-19T21:12:57.816873Z",
     "start_time": "2022-06-19T21:11:52.297648Z"
    }
   },
   "outputs": [
    {
     "name": "stdout",
     "output_type": "stream",
     "text": [
      "Fold nº 1!\n",
      "Fold nº 2!\n",
      "Fold nº 3!\n",
      "\n",
      "Accuracy: 0.999 +/- 0.000\n",
      "Precision: 0.592 +/- 0.010\n",
      "Recall: 0.927 +/- 0.010\n",
      "F1 Score: 0.722 +/- 0.007\n",
      "ROC AUC: 0.963 +/- 0.005\n"
     ]
    }
   ],
   "source": [
    "cross_validation(RandomForestClassifier(n_jobs=-1),x.reset_index(drop=True),y.reset_index(drop=True),StratifiedKFold(n_splits=3))"
   ]
  },
  {
   "cell_type": "markdown",
   "id": "e3cf4a24",
   "metadata": {},
   "source": [
    "### 7.1.3 LGBM"
   ]
  },
  {
   "cell_type": "code",
   "execution_count": 246,
   "id": "bb732c10",
   "metadata": {
    "ExecuteTime": {
     "end_time": "2022-06-19T21:13:09.278033Z",
     "start_time": "2022-06-19T21:12:57.818277Z"
    }
   },
   "outputs": [
    {
     "name": "stdout",
     "output_type": "stream",
     "text": [
      "Fold nº 1!\n",
      "Fold nº 2!\n",
      "Fold nº 3!\n",
      "\n",
      "Accuracy: 0.998 +/- 0.000\n",
      "Precision: 0.343 +/- 0.012\n",
      "Recall: 0.976 +/- 0.012\n",
      "F1 Score: 0.507 +/- 0.012\n",
      "ROC AUC: 0.987 +/- 0.006\n"
     ]
    }
   ],
   "source": [
    "cross_validation(LGBMClassifier(),x.reset_index(drop=True),y.reset_index(drop=True),StratifiedKFold(n_splits=3))"
   ]
  },
  {
   "cell_type": "markdown",
   "id": "9e35757d",
   "metadata": {},
   "source": [
    "### 7.1.4 XGBoost"
   ]
  },
  {
   "cell_type": "code",
   "execution_count": 247,
   "id": "64b016d4",
   "metadata": {
    "ExecuteTime": {
     "end_time": "2022-06-19T21:15:16.328331Z",
     "start_time": "2022-06-19T21:13:09.279715Z"
    }
   },
   "outputs": [
    {
     "name": "stdout",
     "output_type": "stream",
     "text": [
      "Fold nº 1!\n",
      "Fold nº 2!\n",
      "Fold nº 3!\n",
      "\n",
      "Accuracy: 0.999 +/- 0.000\n",
      "Precision: 0.507 +/- 0.019\n",
      "Recall: 0.973 +/- 0.012\n",
      "F1 Score: 0.666 +/- 0.013\n",
      "ROC AUC: 0.986 +/- 0.006\n"
     ]
    }
   ],
   "source": [
    "cross_validation(XGBClassifier(),x.reset_index(drop=True),y.reset_index(drop=True),StratifiedKFold(n_splits=3))"
   ]
  },
  {
   "cell_type": "markdown",
   "id": "556c70d1",
   "metadata": {},
   "source": [
    "# 8.0 Hyperparameter Fine Tuning"
   ]
  },
  {
   "cell_type": "code",
   "execution_count": 60,
   "id": "fb73d9fa",
   "metadata": {
    "ExecuteTime": {
     "end_time": "2022-06-21T23:58:34.436500Z",
     "start_time": "2022-06-21T23:58:11.931001Z"
    }
   },
   "outputs": [],
   "source": [
    "model = RandomForestClassifier(n_jobs=-1)\n",
    "model.fit(x_train,y_train)\n",
    "pkl.dump(model,open('/Users/nando/Comunidade DS/fraud/deploy/local_deploy/pkl/model.pkl','wb'))\n",
    "pkl.dump(model,open('/Users/nando/Comunidade DS/fraud/deploy/cloud_deploy/pkl/model.pkl','wb'))"
   ]
  },
  {
   "cell_type": "markdown",
   "id": "ecedd618",
   "metadata": {},
   "source": [
    "# 9.0 Error and Business Interpretation"
   ]
  },
  {
   "cell_type": "markdown",
   "id": "aaa562b1",
   "metadata": {},
   "source": [
    "## 9.1 Final Test"
   ]
  },
  {
   "cell_type": "code",
   "execution_count": 61,
   "id": "c5a91ab0",
   "metadata": {
    "ExecuteTime": {
     "end_time": "2022-06-21T23:58:51.717538Z",
     "start_time": "2022-06-21T23:58:51.549486Z"
    }
   },
   "outputs": [
    {
     "name": "stdout",
     "output_type": "stream",
     "text": [
      "Accuracy: 0.999\n",
      "Precision: 0.560\n",
      "Recall: 0.963\n",
      "F1 Score: 0.709\n",
      "ROC AUC: 0.981\n"
     ]
    }
   ],
   "source": [
    "y_pred = model.predict(x_test)\n",
    "\n",
    "accuracy = m.accuracy_score(y_test,y_pred)\n",
    "precision = m.precision_score(y_test,y_pred)\n",
    "recall = m.recall_score(y_test,y_pred)\n",
    "f1_score = m.f1_score(y_test,y_pred)\n",
    "roc_auc = m.roc_auc_score(y_test,y_pred)\n",
    "\n",
    "print('Accuracy: {:.3f}\\nPrecision: {:.3f}\\nRecall: {:.3f}\\nF1 Score: {:.3f}\\nROC AUC: {:.3f}'.format(accuracy,precision,recall,f1_score,roc_auc))"
   ]
  },
  {
   "cell_type": "markdown",
   "id": "1d4c8ffe",
   "metadata": {},
   "source": [
    "## 9.2 Threshold Definition based on Max Revenue"
   ]
  },
  {
   "cell_type": "code",
   "execution_count": 62,
   "id": "725a2b72",
   "metadata": {
    "ExecuteTime": {
     "end_time": "2022-06-21T23:59:22.124180Z",
     "start_time": "2022-06-21T23:59:22.120317Z"
    }
   },
   "outputs": [],
   "source": [
    "# devolve 100% do amount se errar fraude\n",
    "# ganha 1% do amount se acertar fraude"
   ]
  },
  {
   "cell_type": "code",
   "execution_count": 75,
   "id": "0ce6517a",
   "metadata": {
    "ExecuteTime": {
     "end_time": "2022-06-22T00:05:48.315581Z",
     "start_time": "2022-06-22T00:05:41.790877Z"
    }
   },
   "outputs": [
    {
     "name": "stdout",
     "output_type": "stream",
     "text": [
      "Threshold = 0.05, Lucro = 906229.477\n",
      "Threshold = 0.1, Lucro = 881207.8784\n",
      "Threshold = 0.15, Lucro = 881207.8784\n",
      "Threshold = 0.2, Lucro = 802720.3744\n",
      "Threshold = 0.25, Lucro = 802720.3744\n",
      "Threshold = 0.3, Lucro = 802720.3744\n",
      "Threshold = 0.35, Lucro = 802720.3744\n",
      "Threshold = 0.4, Lucro = 802720.3744\n",
      "Threshold = 0.45, Lucro = 802720.3744\n",
      "Threshold = 0.5, Lucro = -2153554.8271\n",
      "Threshold = 0.55, Lucro = -2298320.1470999997\n",
      "Threshold = 0.6, Lucro = -2472556.2066\n",
      "Threshold = 0.65, Lucro = -2472556.2066\n",
      "Threshold = 0.7, Lucro = -2474583.2766\n",
      "Threshold = 0.75, Lucro = -2734973.3158\n",
      "Threshold = 0.8, Lucro = -3094486.5326\n",
      "Threshold = 0.85, Lucro = -3607170.6126000006\n",
      "Threshold = 0.9, Lucro = -4306534.2955\n",
      "Threshold = 0.95, Lucro = -8689129.345700001\n"
     ]
    }
   ],
   "source": [
    "receita_list = []\n",
    "for threshold in np.arange(0.05,1,0.05):\n",
    "    x,y = dados6.drop('is_fraud',1),dados6['is_fraud']\n",
    "    _,x,_,y = train_test_split(x,y,test_size=0.1,random_state=101,stratify=y)\n",
    "    aux = pd.merge(x,y,left_index=True,right_index=True).reset_index(drop=True)\n",
    "    proba = pd.Series(model.predict_proba(x_test)[:,1],name='proba').apply(lambda x: 1 if x>= threshold else 0)\n",
    "    aux = pd.merge(aux,proba,left_index=True,right_index=True)\n",
    "\n",
    "    aux1 = aux[(aux['is_fraud']==aux['proba'])&(aux['is_fraud']==1)] # Concordam que é fraude\n",
    "    aux2 = aux[(aux['is_fraud']!=aux['proba'])&(aux['is_fraud']==1)] # Modelo disse que não era fraude e era\n",
    "\n",
    "    ganhos = aux1['amount'].sum()*0.01\n",
    "    perdas = aux2['amount'].sum()\n",
    "    receita = ganhos - perdas\n",
    "    receita_list.append(receita)\n",
    "\n",
    "    print(f'Threshold = {threshold.round(2)}, Lucro = {receita}')"
   ]
  },
  {
   "cell_type": "markdown",
   "id": "53df9995",
   "metadata": {},
   "source": [
    "Mesmo que 0.05 dê mais lucro, o modelo está com essas métricas\n",
    "\n",
    "Accuracy: 0.994\n",
    "Precision: 0.167\n",
    "Recall: 1.000\n",
    "F1 Score: 0.286\n",
    "ROC AUC: 0.997\n",
    "\n",
    "Isso mostra o que? Que ele tá chutando que tudo é fraude. Preciso aumentar o threshold olhando também para as métricas do modelo e não só do negócio.\n",
    "\n",
    "Nosso modelo também não pode \"incomodar\" os clientes, que tentarão tentar fazer transações e irão ser bloqueados toda hora. \n",
    "\n",
    "Vou usar um threshold que me proporcione lucro e uma precisão e recall razoáveis! Então irei de 0.4!"
   ]
  },
  {
   "cell_type": "code",
   "execution_count": 76,
   "id": "af0eaf66",
   "metadata": {
    "ExecuteTime": {
     "end_time": "2022-06-22T00:05:48.457433Z",
     "start_time": "2022-06-22T00:05:48.317153Z"
    }
   },
   "outputs": [
    {
     "data": {
      "image/png": "[encoded data removed]",
      "text/plain": [
       "<Figure size 1152x720 with 1 Axes>"
      ]
     },
     "metadata": {
      "needs_background": "light"
     },
     "output_type": "display_data"
    }
   ],
   "source": [
    "plt.figure(figsize=(16,10))\n",
    "ax = sns.lineplot(x=np.arange(0.05,1,0.05),y=receita_list)\n",
    "plt.xticks(np.arange(0.05,1,0.05))\n",
    "ax.set_title('Threshold x Revenue',size=12,pad=8)\n",
    "ax.set_xlabel('Thresholds',size=10)\n",
    "ax.set_ylabel('Revenue',size=10)\n",
    "plt.show()"
   ]
  },
  {
   "cell_type": "markdown",
   "id": "eeaaab3f",
   "metadata": {},
   "source": [
    "## 9.3 Business Impact: Amount that was saved"
   ]
  },
  {
   "cell_type": "code",
   "execution_count": 79,
   "id": "c7f1ad6a",
   "metadata": {
    "ExecuteTime": {
     "end_time": "2022-06-22T00:06:16.326385Z",
     "start_time": "2022-06-22T00:06:16.154705Z"
    }
   },
   "outputs": [
    {
     "name": "stdout",
     "output_type": "stream",
     "text": [
      "Accuracy: 0.999\n",
      "Precision: 0.491\n",
      "Recall: 0.976\n",
      "F1 Score: 0.653\n",
      "ROC AUC: 0.987\n"
     ]
    }
   ],
   "source": [
    "y_pred = pd.Series(model.predict_proba(x_test)[:,1],name='proba').apply(lambda x: 1 if x>= 0.4 else 0)\n",
    "\n",
    "accuracy = m.accuracy_score(y_test,y_pred)\n",
    "precision = m.precision_score(y_test,y_pred)\n",
    "recall = m.recall_score(y_test,y_pred)\n",
    "f1_score = m.f1_score(y_test,y_pred)\n",
    "roc_auc = m.roc_auc_score(y_test,y_pred)\n",
    "\n",
    "print('Accuracy: {:.3f}\\nPrecision: {:.3f}\\nRecall: {:.3f}\\nF1 Score: {:.3f}\\nROC AUC: {:.3f}'.format(accuracy,precision,recall,f1_score,roc_auc))"
   ]
  },
  {
   "cell_type": "code",
   "execution_count": 80,
   "id": "74103500",
   "metadata": {
    "ExecuteTime": {
     "end_time": "2022-06-22T00:06:36.410588Z",
     "start_time": "2022-06-22T00:06:36.405932Z"
    }
   },
   "outputs": [
    {
     "data": {
      "text/plain": [
       "90520463.44"
      ]
     },
     "execution_count": 80,
     "metadata": {},
     "output_type": "execute_result"
    }
   ],
   "source": [
    "aux1['amount'].sum() # Dinheiro que o modelo salvou"
   ]
  },
  {
   "cell_type": "code",
   "execution_count": 81,
   "id": "d55d5f46",
   "metadata": {
    "ExecuteTime": {
     "end_time": "2022-06-22T00:06:38.608734Z",
     "start_time": "2022-06-22T00:06:38.601223Z"
    }
   },
   "outputs": [
    {
     "data": {
      "text/plain": [
       "102484.26"
      ]
     },
     "execution_count": 81,
     "metadata": {},
     "output_type": "execute_result"
    }
   ],
   "source": [
    "aux2['amount'].sum() # Dinheiro que o modelo não conseguiu salvar"
   ]
  },
  {
   "cell_type": "code",
   "execution_count": 82,
   "id": "18e327f1",
   "metadata": {
    "ExecuteTime": {
     "end_time": "2022-06-22T00:06:41.971232Z",
     "start_time": "2022-06-22T00:06:41.964383Z"
    },
    "scrolled": true
   },
   "outputs": [
    {
     "name": "stdout",
     "output_type": "stream",
     "text": [
      "99.89%\n"
     ]
    }
   ],
   "source": [
    "# O modelo salvou quantos % do valor que ia ser destinado a fraudes?\n",
    "pct = round(aux1['amount'].sum()/(aux1['amount'].sum()+aux2['amount'].sum())*100,2)\n",
    "print(f'{pct}%')"
   ]
  },
  {
   "cell_type": "markdown",
   "id": "a46edab5",
   "metadata": {},
   "source": [
    "# 10.0 Model Deploy"
   ]
  },
  {
   "cell_type": "markdown",
   "id": "faf34dce",
   "metadata": {},
   "source": [
    "## 10.1 Fraud Class"
   ]
  },
  {
   "cell_type": "code",
   "execution_count": 292,
   "id": "678c1aa6",
   "metadata": {
    "ExecuteTime": {
     "end_time": "2022-06-19T22:11:47.074892Z",
     "start_time": "2022-06-19T22:11:47.047457Z"
    }
   },
   "outputs": [],
   "source": [
    "import pandas as pd\n",
    "import numpy as np\n",
    "import inflection\n",
    "import pickle as pkl\n",
    "\n",
    "class Fraud():\n",
    "    def __init__(self):\n",
    "        self.le = pkl.load(open('pkl/le.pkl','rb'))\n",
    "        self.ohe = pkl.load(open('pkl/ohe.pkl','rb'))\n",
    "        self.mms = pkl.load(open('pkl/mms.pkl','rb'))\n",
    "        \n",
    "    def data_cleaning(self,dados):\n",
    "        \n",
    "        ## 2.1 Rename Values and Columns\n",
    "\n",
    "        for column in dados.columns:\n",
    "            dados.rename(columns={column:inflection.underscore(column)},inplace=True)\n",
    "\n",
    "        dados['type'] = dados['type'].apply(lambda x: inflection.underscore(x))\n",
    "\n",
    "        dados.rename(columns={'oldbalance_org':'old_balance_orig','newbalance_orig':'new_balance_orig','oldbalance_dest':'old_balance_dest','newbalance_dest':'new_balance_dest'},inplace=True)\n",
    "        \n",
    "        # podia usar um dados.fillna('algum valor ou média dos valores usando simple imputer')\n",
    "        # pq se aparecer um dado faltante eu ns oq fazer e dará erro! (melhorar nisso talvez!)\n",
    "\n",
    "        return dados\n",
    "    \n",
    "    def feature_engineering(self,dados):\n",
    "\n",
    "        # Type of destination client\n",
    "        dados['type_dest'] = dados['name_dest'].astype(str).str[0].map({'C':'customers','M':'merchants'})\n",
    "\n",
    "        # If the origin account has lost or earned money or if nothing has changed in that transaction\n",
    "        dados['orig_transaction_status'] = dados.apply(lambda x: 'orig_lost_money' if x['new_balance_orig']<x['old_balance_orig'] else ('no_change' if x['new_balance_orig']==x['old_balance_orig'] else 'orig_earned_money'),1)\n",
    "\n",
    "        # If the destination account has lost or earned money or if nothing has changed in that transaction\n",
    "        dados['dest_transaction_status'] = dados.apply(lambda x: 'dest_lost_money' if x['new_balance_dest']<x['old_balance_dest'] else ('no_change' if x['new_balance_dest']==x['old_balance_dest'] else 'dest_earned_money'),1)\n",
    "\n",
    "        # Orig account has no money after the transaction\n",
    "        dados['orig_has_no_money'] = dados['new_balance_orig'].apply(lambda x: 1 if x==0 else 0)\n",
    "\n",
    "        # Dest account had no money before the transaction\n",
    "        dados['dest_had_no_money'] = dados['old_balance_dest'].apply(lambda x: 1 if x==0 else 0)\n",
    "        \n",
    "        return dados\n",
    "        \n",
    "    def data_filtering(self,dados):\n",
    "\n",
    "        dados.drop(['name_orig','name_dest'],1,inplace=True) # preciso da feature dest pra o feature engineering, a outra eu poderia nem filtrar, só não usar como input! (melhorar depois)\n",
    "        \n",
    "        return dados\n",
    "    \n",
    "    def data_preparation(self,dados):\n",
    "\n",
    "        ## 6.2 Encoding\n",
    "\n",
    "        # type (multiclass)\n",
    "        dados = self.ohe.transform(dados).drop('type_debit',1)\n",
    "        dados['type_dest'] = self.le.transform(dados['type_dest'])\n",
    "        dados['dest_transaction_status'] = dados['dest_transaction_status'].map({'dest_earned_money':1, 'dest_lost_money':-1, 'no_change':0})\n",
    "        dados['orig_transaction_status'] = dados['orig_transaction_status'].map({'orig_earned_money':1, 'orig_lost_money':-1, 'no_change':0})\n",
    "\n",
    "        ## 6.4 Rescale\n",
    "\n",
    "        columns = ['step', 'type_transfer', 'type_cash_out', 'type_payment','type_cash_in', 'amount', 'old_balance_orig', 'new_balance_orig','old_balance_dest', 'new_balance_dest', 'is_flagged_fraud', 'type_dest','orig_transaction_status', 'dest_transaction_status','orig_has_no_money', 'dest_had_no_money']\n",
    "        dados = pd.DataFrame(self.mms.transform(dados),columns=columns)\n",
    "\n",
    "        ## 6.5 Feature Selection\n",
    "\n",
    "        cols_selected = ['step','old_balance_orig','new_balance_dest','dest_transaction_status','orig_transaction_status','amount','type_payment','type_transfer','type_dest','orig_has_no_money']\n",
    "        dados = dados[cols_selected]\n",
    "        \n",
    "        return dados\n",
    "    \n",
    "    def get_predictions(self,model,dados):\n",
    "        \n",
    "        y_pred = pd.Series(model.predict_proba(x_test)[:,1],name='proba').apply(lambda x: 1 if x>= 0.4 else 0)\n",
    "        return y_pred.to_json(orient='records')"
   ]
  },
  {
   "cell_type": "markdown",
   "id": "b13e1dca",
   "metadata": {},
   "source": [
    "## 10.2 Handler.py"
   ]
  },
  {
   "cell_type": "code",
   "execution_count": 315,
   "id": "4da5e74f",
   "metadata": {
    "ExecuteTime": {
     "end_time": "2022-06-19T23:06:10.893068Z",
     "start_time": "2022-06-19T23:06:10.888005Z"
    }
   },
   "outputs": [],
   "source": [
    "from flask import Flask,request,Response\n",
    "from fraud import Fraud\n",
    "import pickle as pkl\n",
    "import pandas as pd\n",
    "import os\n",
    "\n",
    "app = Flask(__name__)\n",
    "@app.route('/predict',methods=['POST'])\n",
    "\n",
    "def predict():\n",
    "    json = request.get_json()\n",
    "    \n",
    "    if json:\n",
    "        dados = pd.DataFrame(json)\n",
    "        model = pkl.load(open('pkl/model.pkl','rb'))\n",
    "        \n",
    "        dados = Fraud().data_cleaning(dados)\n",
    "        dados = Fraud().feature_engineering(dados)\n",
    "        dados = Fraud().data_filtering(dados)\n",
    "        dados = Fraud().data_preparation(dados)\n",
    "        return Fraud().get_predictions(model,dados)\n",
    "        \n",
    "    else:\n",
    "        Response('{}',status=200)\n",
    "    \n",
    "if __name__=='__main__':\n",
    "    app.run(host='0.0.0.0',port=os.environ.get('PORT',8080),debug=False)"
   ]
  },
  {
   "cell_type": "markdown",
   "id": "a53a3a1c",
   "metadata": {},
   "source": [
    "## 10.3 API Request Test"
   ]
  },
  {
   "cell_type": "code",
   "execution_count": 341,
   "id": "fe6a6633",
   "metadata": {
    "ExecuteTime": {
     "end_time": "2022-06-19T23:25:25.843549Z",
     "start_time": "2022-06-19T23:25:15.902621Z"
    }
   },
   "outputs": [],
   "source": [
    "import requests\n",
    "dados = pd.read_csv('/Users/nando/Comunidade DS/fraud/data/data.csv')\n",
    "dados = dados.sample(3,random_state=101)\n",
    "dados.drop('isFraud',1,inplace=True)\n",
    "json = dados.to_json()"
   ]
  },
  {
   "cell_type": "markdown",
   "id": "a7dd964f",
   "metadata": {},
   "source": [
    "### 10.3.1 Local Request"
   ]
  },
  {
   "cell_type": "code",
   "execution_count": 342,
   "id": "be2552b4",
   "metadata": {
    "ExecuteTime": {
     "end_time": "2022-06-19T23:25:44.399687Z",
     "start_time": "2022-06-19T23:25:44.333828Z"
    }
   },
   "outputs": [
    {
     "name": "stdout",
     "output_type": "stream",
     "text": [
      "Status: 200\n",
      "[0, 0, 0]\n"
     ]
    }
   ],
   "source": [
    "response = requests.post(url='http://0.0.0.0:8080/predict',data=json,headers={'Content-type':'application/json'})\n",
    "print(f'Status: {response.status_code}')\n",
    "print(response.json())"
   ]
  },
  {
   "cell_type": "markdown",
   "id": "1c5523b6",
   "metadata": {},
   "source": [
    "### 10.3.2 Cloud Request"
   ]
  },
  {
   "cell_type": "code",
   "execution_count": 347,
   "id": "b3047ea1",
   "metadata": {
    "ExecuteTime": {
     "end_time": "2022-06-19T23:41:01.051882Z",
     "start_time": "2022-06-19T23:40:59.742165Z"
    }
   },
   "outputs": [
    {
     "name": "stdout",
     "output_type": "stream",
     "text": [
      "Status: 200\n",
      "[0, 0, 0]\n"
     ]
    }
   ],
   "source": [
    "response = requests.post(url='https://fraud-detection-cds.herokuapp.com/predict',data=json,headers={'Content-type':'application/json'})\n",
    "print(f'Status: {response.status_code}')\n",
    "print(response.json())"
   ]
  },
  {
   "cell_type": "code",
   "execution_count": null,
   "id": "06e36607",
   "metadata": {},
   "outputs": [],
   "source": []
  }
 ],
 "metadata": {
  "kernelspec": {
   "display_name": "Python 3 (ipykernel)",
   "language": "python",
   "name": "python3"
  },
  "language_info": {
   "codemirror_mode": {
    "name": "ipython",
    "version": 3
   },
   "file_extension": ".py",
   "mimetype": "text/x-python",
   "name": "python",
   "nbconvert_exporter": "python",
   "pygments_lexer": "ipython3",
   "version": "3.9.2"
  },
  "toc": {
   "base_numbering": 1,
   "nav_menu": {},
   "number_sections": false,
   "sideBar": true,
   "skip_h1_title": false,
   "title_cell": "Table of Contents",
   "title_sidebar": "Contents",
   "toc_cell": false,
   "toc_position": {},
   "toc_section_display": true,
   "toc_window_display": false
  }
 },
 "nbformat": 4,
 "nbformat_minor": 5
}
